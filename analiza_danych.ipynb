{
 "cells": [
  {
   "cell_type": "code",
   "execution_count": 1,
   "metadata": {},
   "outputs": [],
   "source": [
    "import pandas as pd\n",
    "import numpy as np\n",
    "import matplotlib.pyplot as plt\n",
    "import matplotlib\n",
    "import time\n",
    "import scipy.signal as signal\n",
    "import os\n",
    "import seaborn as sns\n",
    "matplotlib.use(\"pgf\")\n",
    "matplotlib.rcParams.update({\n",
    "    \"pgf.texsystem\": \"pdflatex\",\n",
    "    'font.family': 'serif',\n",
    "    'text.usetex': True,\n",
    "    'pgf.rcfonts': False,\n",
    "})"
   ]
  },
  {
   "cell_type": "code",
   "execution_count": 2,
   "metadata": {},
   "outputs": [
    {
     "data": {
      "text/html": [
       "<div>\n",
       "<style scoped>\n",
       "    .dataframe tbody tr th:only-of-type {\n",
       "        vertical-align: middle;\n",
       "    }\n",
       "\n",
       "    .dataframe tbody tr th {\n",
       "        vertical-align: top;\n",
       "    }\n",
       "\n",
       "    .dataframe thead th {\n",
       "        text-align: right;\n",
       "    }\n",
       "</style>\n",
       "<table border=\"1\" class=\"dataframe\">\n",
       "  <thead>\n",
       "    <tr style=\"text-align: right;\">\n",
       "      <th></th>\n",
       "      <th>Timestamp</th>\n",
       "      <th>No. pulses</th>\n",
       "      <th>No. Test</th>\n",
       "      <th>R</th>\n",
       "      <th>Succes</th>\n",
       "      <th>dt_Ron</th>\n",
       "      <th>Amp_RonR</th>\n",
       "      <th>q</th>\n",
       "      <th>E_memristor</th>\n",
       "      <th>State</th>\n",
       "    </tr>\n",
       "  </thead>\n",
       "  <tbody>\n",
       "    <tr>\n",
       "      <th>0</th>\n",
       "      <td>1.676315e+09</td>\n",
       "      <td>0</td>\n",
       "      <td>0</td>\n",
       "      <td>736.349961</td>\n",
       "      <td>False</td>\n",
       "      <td>0.015</td>\n",
       "      <td>1.2</td>\n",
       "      <td>0.000000</td>\n",
       "      <td>0.000000</td>\n",
       "      <td>R_off</td>\n",
       "    </tr>\n",
       "    <tr>\n",
       "      <th>1</th>\n",
       "      <td>1.676315e+09</td>\n",
       "      <td>1</td>\n",
       "      <td>0</td>\n",
       "      <td>3.322891</td>\n",
       "      <td>False</td>\n",
       "      <td>0.015</td>\n",
       "      <td>1.2</td>\n",
       "      <td>0.002462</td>\n",
       "      <td>0.001032</td>\n",
       "      <td>Unknown</td>\n",
       "    </tr>\n",
       "    <tr>\n",
       "      <th>2</th>\n",
       "      <td>1.676315e+09</td>\n",
       "      <td>2</td>\n",
       "      <td>0</td>\n",
       "      <td>2.664260</td>\n",
       "      <td>True</td>\n",
       "      <td>0.015</td>\n",
       "      <td>1.2</td>\n",
       "      <td>0.002567</td>\n",
       "      <td>0.001002</td>\n",
       "      <td>R_on</td>\n",
       "    </tr>\n",
       "    <tr>\n",
       "      <th>3</th>\n",
       "      <td>1.676315e+09</td>\n",
       "      <td>0</td>\n",
       "      <td>1</td>\n",
       "      <td>1267.767368</td>\n",
       "      <td>False</td>\n",
       "      <td>0.015</td>\n",
       "      <td>1.2</td>\n",
       "      <td>0.000000</td>\n",
       "      <td>0.000000</td>\n",
       "      <td>R_off</td>\n",
       "    </tr>\n",
       "    <tr>\n",
       "      <th>4</th>\n",
       "      <td>1.676315e+09</td>\n",
       "      <td>1</td>\n",
       "      <td>1</td>\n",
       "      <td>2.491987</td>\n",
       "      <td>True</td>\n",
       "      <td>0.015</td>\n",
       "      <td>1.2</td>\n",
       "      <td>0.002442</td>\n",
       "      <td>0.001024</td>\n",
       "      <td>R_on</td>\n",
       "    </tr>\n",
       "    <tr>\n",
       "      <th>...</th>\n",
       "      <td>...</td>\n",
       "      <td>...</td>\n",
       "      <td>...</td>\n",
       "      <td>...</td>\n",
       "      <td>...</td>\n",
       "      <td>...</td>\n",
       "      <td>...</td>\n",
       "      <td>...</td>\n",
       "      <td>...</td>\n",
       "      <td>...</td>\n",
       "    </tr>\n",
       "    <tr>\n",
       "      <th>500</th>\n",
       "      <td>1.676316e+09</td>\n",
       "      <td>1</td>\n",
       "      <td>98</td>\n",
       "      <td>2.200976</td>\n",
       "      <td>True</td>\n",
       "      <td>0.015</td>\n",
       "      <td>1.2</td>\n",
       "      <td>0.002681</td>\n",
       "      <td>0.000949</td>\n",
       "      <td>R_on</td>\n",
       "    </tr>\n",
       "    <tr>\n",
       "      <th>501</th>\n",
       "      <td>1.676316e+09</td>\n",
       "      <td>0</td>\n",
       "      <td>99</td>\n",
       "      <td>815.573235</td>\n",
       "      <td>False</td>\n",
       "      <td>0.015</td>\n",
       "      <td>1.2</td>\n",
       "      <td>0.000000</td>\n",
       "      <td>0.000000</td>\n",
       "      <td>R_off</td>\n",
       "    </tr>\n",
       "    <tr>\n",
       "      <th>502</th>\n",
       "      <td>1.676316e+09</td>\n",
       "      <td>1</td>\n",
       "      <td>99</td>\n",
       "      <td>2.284246</td>\n",
       "      <td>True</td>\n",
       "      <td>0.015</td>\n",
       "      <td>1.2</td>\n",
       "      <td>0.002654</td>\n",
       "      <td>0.000963</td>\n",
       "      <td>R_on</td>\n",
       "    </tr>\n",
       "    <tr>\n",
       "      <th>503</th>\n",
       "      <td>1.676316e+09</td>\n",
       "      <td>0</td>\n",
       "      <td>100</td>\n",
       "      <td>859.415191</td>\n",
       "      <td>False</td>\n",
       "      <td>0.015</td>\n",
       "      <td>1.2</td>\n",
       "      <td>0.000000</td>\n",
       "      <td>0.000000</td>\n",
       "      <td>R_off</td>\n",
       "    </tr>\n",
       "    <tr>\n",
       "      <th>504</th>\n",
       "      <td>1.676316e+09</td>\n",
       "      <td>1</td>\n",
       "      <td>100</td>\n",
       "      <td>2.366919</td>\n",
       "      <td>True</td>\n",
       "      <td>0.015</td>\n",
       "      <td>1.2</td>\n",
       "      <td>0.002608</td>\n",
       "      <td>0.000984</td>\n",
       "      <td>R_on</td>\n",
       "    </tr>\n",
       "  </tbody>\n",
       "</table>\n",
       "<p>505 rows × 10 columns</p>\n",
       "</div>"
      ],
      "text/plain": [
       "        Timestamp  No. pulses   No. Test            R  Succes  dt_Ron  \\\n",
       "0    1.676315e+09           0          0   736.349961   False   0.015   \n",
       "1    1.676315e+09           1          0     3.322891   False   0.015   \n",
       "2    1.676315e+09           2          0     2.664260    True   0.015   \n",
       "3    1.676315e+09           0          1  1267.767368   False   0.015   \n",
       "4    1.676315e+09           1          1     2.491987    True   0.015   \n",
       "..            ...         ...        ...          ...     ...     ...   \n",
       "500  1.676316e+09           1         98     2.200976    True   0.015   \n",
       "501  1.676316e+09           0         99   815.573235   False   0.015   \n",
       "502  1.676316e+09           1         99     2.284246    True   0.015   \n",
       "503  1.676316e+09           0        100   859.415191   False   0.015   \n",
       "504  1.676316e+09           1        100     2.366919    True   0.015   \n",
       "\n",
       "     Amp_RonR         q  E_memristor    State  \n",
       "0         1.2  0.000000     0.000000    R_off  \n",
       "1         1.2  0.002462     0.001032  Unknown  \n",
       "2         1.2  0.002567     0.001002     R_on  \n",
       "3         1.2  0.000000     0.000000    R_off  \n",
       "4         1.2  0.002442     0.001024     R_on  \n",
       "..        ...       ...          ...      ...  \n",
       "500       1.2  0.002681     0.000949     R_on  \n",
       "501       1.2  0.000000     0.000000    R_off  \n",
       "502       1.2  0.002654     0.000963     R_on  \n",
       "503       1.2  0.000000     0.000000    R_off  \n",
       "504       1.2  0.002608     0.000984     R_on  \n",
       "\n",
       "[505 rows x 10 columns]"
      ]
     },
     "execution_count": 2,
     "metadata": {},
     "output_type": "execute_result"
    }
   ],
   "source": [
    "main_path = r\"Programowanie_Ron_wyniki_AmpOn=1.2_dtOn=0.015_1.csv\"\n",
    "data = pd.read_csv(main_path)\n",
    "data"
   ]
  },
  {
   "cell_type": "code",
   "execution_count": 3,
   "metadata": {},
   "outputs": [],
   "source": [
    "data.columns = [\"Time\", \"Pulses\", \"Tests\",'R','isSucces','dt_Ron',\n",
    "       'Amp_Ron', 'q', 'E_memristor', 'State']"
   ]
  },
  {
   "cell_type": "markdown",
   "metadata": {},
   "source": []
  },
  {
   "cell_type": "code",
   "execution_count": 4,
   "metadata": {},
   "outputs": [
    {
     "data": {
      "text/plain": [
       "Index(['Time', 'Pulses', 'Tests', 'R', 'isSucces', 'dt_Ron', 'Amp_Ron', 'q',\n",
       "       'E_memristor', 'State'],\n",
       "      dtype='object')"
      ]
     },
     "execution_count": 4,
     "metadata": {},
     "output_type": "execute_result"
    }
   ],
   "source": [
    "data.columns"
   ]
  },
  {
   "cell_type": "code",
   "execution_count": 5,
   "metadata": {},
   "outputs": [
    {
     "data": {
      "text/html": [
       "<div>\n",
       "<style scoped>\n",
       "    .dataframe tbody tr th:only-of-type {\n",
       "        vertical-align: middle;\n",
       "    }\n",
       "\n",
       "    .dataframe tbody tr th {\n",
       "        vertical-align: top;\n",
       "    }\n",
       "\n",
       "    .dataframe thead th {\n",
       "        text-align: right;\n",
       "    }\n",
       "</style>\n",
       "<table border=\"1\" class=\"dataframe\">\n",
       "  <thead>\n",
       "    <tr style=\"text-align: right;\">\n",
       "      <th></th>\n",
       "      <th>Time</th>\n",
       "      <th>Pulses</th>\n",
       "      <th>Tests</th>\n",
       "      <th>R</th>\n",
       "      <th>isSucces</th>\n",
       "      <th>dt_Ron</th>\n",
       "      <th>Amp_Ron</th>\n",
       "      <th>q</th>\n",
       "      <th>E_memristor</th>\n",
       "      <th>State</th>\n",
       "    </tr>\n",
       "  </thead>\n",
       "  <tbody>\n",
       "    <tr>\n",
       "      <th>0</th>\n",
       "      <td>1.676315e+09</td>\n",
       "      <td>0</td>\n",
       "      <td>0</td>\n",
       "      <td>736.349961</td>\n",
       "      <td>False</td>\n",
       "      <td>0.015</td>\n",
       "      <td>1.2</td>\n",
       "      <td>0.000000</td>\n",
       "      <td>0.000000</td>\n",
       "      <td>R_off</td>\n",
       "    </tr>\n",
       "    <tr>\n",
       "      <th>1</th>\n",
       "      <td>1.676315e+09</td>\n",
       "      <td>1</td>\n",
       "      <td>0</td>\n",
       "      <td>3.322891</td>\n",
       "      <td>False</td>\n",
       "      <td>0.015</td>\n",
       "      <td>1.2</td>\n",
       "      <td>0.002462</td>\n",
       "      <td>0.001032</td>\n",
       "      <td>Unknown</td>\n",
       "    </tr>\n",
       "    <tr>\n",
       "      <th>2</th>\n",
       "      <td>1.676315e+09</td>\n",
       "      <td>2</td>\n",
       "      <td>0</td>\n",
       "      <td>2.664260</td>\n",
       "      <td>True</td>\n",
       "      <td>0.015</td>\n",
       "      <td>1.2</td>\n",
       "      <td>0.002567</td>\n",
       "      <td>0.001002</td>\n",
       "      <td>R_on</td>\n",
       "    </tr>\n",
       "    <tr>\n",
       "      <th>3</th>\n",
       "      <td>1.676315e+09</td>\n",
       "      <td>0</td>\n",
       "      <td>1</td>\n",
       "      <td>1267.767368</td>\n",
       "      <td>False</td>\n",
       "      <td>0.015</td>\n",
       "      <td>1.2</td>\n",
       "      <td>0.000000</td>\n",
       "      <td>0.000000</td>\n",
       "      <td>R_off</td>\n",
       "    </tr>\n",
       "    <tr>\n",
       "      <th>4</th>\n",
       "      <td>1.676315e+09</td>\n",
       "      <td>1</td>\n",
       "      <td>1</td>\n",
       "      <td>2.491987</td>\n",
       "      <td>True</td>\n",
       "      <td>0.015</td>\n",
       "      <td>1.2</td>\n",
       "      <td>0.002442</td>\n",
       "      <td>0.001024</td>\n",
       "      <td>R_on</td>\n",
       "    </tr>\n",
       "  </tbody>\n",
       "</table>\n",
       "</div>"
      ],
      "text/plain": [
       "           Time  Pulses  Tests            R  isSucces  dt_Ron  Amp_Ron  \\\n",
       "0  1.676315e+09       0      0   736.349961     False   0.015      1.2   \n",
       "1  1.676315e+09       1      0     3.322891     False   0.015      1.2   \n",
       "2  1.676315e+09       2      0     2.664260      True   0.015      1.2   \n",
       "3  1.676315e+09       0      1  1267.767368     False   0.015      1.2   \n",
       "4  1.676315e+09       1      1     2.491987      True   0.015      1.2   \n",
       "\n",
       "          q  E_memristor    State  \n",
       "0  0.000000     0.000000    R_off  \n",
       "1  0.002462     0.001032  Unknown  \n",
       "2  0.002567     0.001002     R_on  \n",
       "3  0.000000     0.000000    R_off  \n",
       "4  0.002442     0.001024     R_on  "
      ]
     },
     "execution_count": 5,
     "metadata": {},
     "output_type": "execute_result"
    }
   ],
   "source": [
    "data.head()"
   ]
  },
  {
   "cell_type": "code",
   "execution_count": 6,
   "metadata": {},
   "outputs": [
    {
     "data": {
      "image/png": "[encoded data removed]",
      "text/plain": [
       "<Figure size 720x360 with 1 Axes>"
      ]
     },
     "metadata": {
      "needs_background": "light"
     },
     "output_type": "display_data"
    }
   ],
   "source": [
    "\n",
    "temp_data = data[data[\"isSucces\"]==True].groupby(by=\"Pulses\").count()\n",
    "plt.figure(figsize=(10,5))\n",
    "sns.barplot( x=temp_data.index,y=\"R\", data=temp_data)\n",
    "plt.xlabel(\"No. of Pulses\", fontsize=15)\n",
    "plt.ylabel(\"Number of successful tests to $R_{on}$ state \", fontsize=15)\n",
    "plt.grid(True)"
   ]
  },
  {
   "cell_type": "code",
   "execution_count": 7,
   "metadata": {},
   "outputs": [
    {
     "data": {
      "image/png": "[encoded data removed]",
      "text/plain": [
       "<Figure size 1440x720 with 1 Axes>"
      ]
     },
     "metadata": {
      "needs_background": "light"
     },
     "output_type": "display_data"
    }
   ],
   "source": [
    "temp_data = data[data[\"isSucces\"]==True]\n",
    "plt.figure(figsize=(20,10))\n",
    "plt.bar(x=temp_data[\"Tests\"], height=temp_data[\"Pulses\"],width=0.8)\n",
    "plt.xlabel(\"No. Tests\",fontdict={'fontsize':14})\n",
    "plt.ylabel(\"Pulses to get $R_{on}$ state\",fontdict={'fontsize':14})\n",
    "plt.grid(True)\n",
    "\n",
    "\n"
   ]
  },
  {
   "cell_type": "code",
   "execution_count": 8,
   "metadata": {},
   "outputs": [
    {
     "data": {
      "text/plain": [
       "0      0.000000\n",
       "1      0.002462\n",
       "2      0.005029\n",
       "3      0.000000\n",
       "4      0.002442\n",
       "         ...   \n",
       "500    0.002681\n",
       "501    0.000000\n",
       "502    0.002654\n",
       "503    0.000000\n",
       "504    0.002608\n",
       "Name: Q_integrated, Length: 505, dtype: float64"
      ]
     },
     "execution_count": 8,
     "metadata": {},
     "output_type": "execute_result"
    }
   ],
   "source": [
    "data['Q_integrated'] = np.nan\n",
    "data['E_integrated'] = np.nan\n",
    "\n",
    "\n",
    "\n",
    "for i in data.index:\n",
    "    if data.loc[i,\"q\"] == 0:\n",
    "        data.loc[i,\"Q_integrated\"] = 0\n",
    "    else:\n",
    "        data.loc[i,\"Q_integrated\"] = data.loc[i-1,\"Q_integrated\"]+data.loc[i,\"q\"]\n",
    "    if data.loc[i,\"E_memristor\"] == 0:\n",
    "        data.loc[i,\"E_integrated\"] = 0\n",
    "    else:\n",
    "        data.loc[i,\"E_integrated\"] = data.loc[i-1,\"E_integrated\"]+data.loc[i,\"E_memristor\"]\n",
    "\n",
    "data['Q_integrated']\n",
    "\n",
    "\n",
    "\n"
   ]
  },
  {
   "cell_type": "code",
   "execution_count": 9,
   "metadata": {},
   "outputs": [
    {
     "data": {
      "image/png": "[encoded data removed]",
      "text/plain": [
       "<Figure size 1440x720 with 1 Axes>"
      ]
     },
     "metadata": {
      "needs_background": "light"
     },
     "output_type": "display_data"
    }
   ],
   "source": [
    "temp_data = data[data[\"isSucces\"]==True]\n",
    "plt.figure(figsize=(20,10))\n",
    "plt.bar(x=temp_data[\"Tests\"], height=temp_data[\"Q_integrated\"],width=0.8)\n",
    "plt.xlabel(\"No. Test\",fontdict={'fontsize':14})\n",
    "plt.ylabel(\"Charge to get $R_{on}$ state[C]\",fontdict={'fontsize':14})\n",
    "plt.grid(True)\n",
    "\n"
   ]
  },
  {
   "cell_type": "code",
   "execution_count": 10,
   "metadata": {},
   "outputs": [
    {
     "data": {
      "image/png": "[encoded data removed]",
      "text/plain": [
       "<Figure size 1440x720 with 1 Axes>"
      ]
     },
     "metadata": {
      "needs_background": "light"
     },
     "output_type": "display_data"
    }
   ],
   "source": [
    "\n",
    "temp_data = data[data[\"isSucces\"]==True]\n",
    "plt.figure(figsize=(20,10))\n",
    "plt.bar(x=temp_data[\"Tests\"], height=temp_data[\"E_integrated\"],width=0.8,)\n",
    "plt.xlabel(\"No. Test\",fontdict={'fontsize':14})\n",
    "plt.ylabel(\"Energy on memristor to get $R_{on}$ state [mW]\",fontdict={'fontsize':14})\n",
    "plt.grid(True)\n"
   ]
  },
  {
   "cell_type": "code",
   "execution_count": 11,
   "metadata": {},
   "outputs": [
    {
     "data": {
      "text/plain": [
       "[<matplotlib.lines.Line2D at 0x7fa8b0ba4c10>]"
      ]
     },
     "execution_count": 11,
     "metadata": {},
     "output_type": "execute_result"
    },
    {
     "data": {
      "image/png": "[encoded data removed]",
      "text/plain": [
       "<Figure size 1440x720 with 1 Axes>"
      ]
     },
     "metadata": {
      "needs_background": "light"
     },
     "output_type": "display_data"
    }
   ],
   "source": [
    "from scipy.interpolate import interp1d\n",
    "\n",
    "number_of_tests = np.max(data[\"Tests\"])\n",
    "\n",
    "temp_data = data[data[\"isSucces\"]==True].groupby(by=\"Pulses\",as_index=False).count()\n",
    "temp_data['Probability'] = np.multiply(temp_data['R'],1/number_of_tests)\n",
    "temp_data.reset_index(inplace=True)\n",
    "P = 0\n",
    "for i in temp_data.index:\n",
    "    P = temp_data.loc[i,'Probability']+P\n",
    "    temp_data.loc[i,'Probability'] = P\n",
    "x = temp_data['Pulses'].to_numpy()\n",
    "x = np.insert(x,0,0)\n",
    "y = temp_data['Probability'].to_numpy()\n",
    "y = np.insert(y,0,0)*100\n",
    "\n",
    "plt.figure(figsize=(20,10))\n",
    "plt.bar(x=x, height=y,width=0.8)\n",
    "plt.xlabel(\"No. Pulses\",fontdict={'fontsize':14})\n",
    "plt.ylabel(\"Probability to get $R_{on}$ state [%]\",fontdict={'fontsize':14})\n",
    "plt.grid(True)\n",
    "x_i = np.arange(start= np.min(x),stop= np.max(x),step=0.001)\n",
    "\n",
    "cs = interp1d(x, y,kind='cubic')\n",
    "plt.plot(x_i, cs(x_i),'r') \n",
    "#bla bla\n"
   ]
  },
  {
   "cell_type": "code",
   "execution_count": 12,
   "metadata": {},
   "outputs": [
    {
     "data": {
      "image/png": "[encoded data removed]",
      "text/plain": [
       "<Figure size 1440x720 with 1 Axes>"
      ]
     },
     "metadata": {
      "needs_background": "light"
     },
     "output_type": "display_data"
    }
   ],
   "source": [
    "\n",
    "number_of_tests = np.max(data[\"Tests\"])\n",
    "\n",
    "temp_data = data[data[\"isSucces\"]==True].groupby(by=\"Q_integrated\",as_index=False).count()\n",
    "temp_data.sort_values(by=\"Q_integrated\",ascending=True,inplace=True)\n",
    "temp_data.reset_index(drop=True,inplace=True)\n",
    "temp_data\n",
    "\n",
    "temp_data['Probability'] = np.multiply(temp_data['R'],1/number_of_tests)\n",
    "P = 0\n",
    "\n",
    "for i in temp_data.index:\n",
    "    P = temp_data.loc[i,'Probability']+P\n",
    "    temp_data.loc[i,'Probability'] = P\n",
    "\n",
    "x = temp_data['Q_integrated'].to_numpy()\n",
    "x = np.insert(x,0,0)\n",
    "y = temp_data['Probability'].to_numpy()\n",
    "y = np.insert(y,0,0)*100\n",
    "\n",
    "plt.figure(figsize=(20,10))\n",
    "plt.plot(x, y)\n",
    "plt.xlabel(\"Charge [mC]\",fontdict={'fontsize':14})\n",
    "plt.ylabel(\"Probability to get $R_{on}$ state [\\%]\",fontdict={'fontsize':14})\n",
    "plt.grid(True)\n",
    "x_i = np.arange(start= np.min(x),stop= np.max(x),step=0.001)\n",
    "\n",
    "cs = interp1d(x, y,kind='previous')\n",
    "\n",
    "\n",
    "t = data[\"R\"] == \"nan\"\n",
    "t = np.where(t==True)\n",
    "data.iloc[t[0]]\n",
    "data =data.drop(labels = t[0],axis=0).reset_index(drop=True)\n",
    "data[\"R\"] = data[\"R\"].astype(np.float64)\n",
    "\n",
    "\n",
    "\n",
    "#plt.plot(x_i, cs(x_i),'r')\n",
    "\n",
    "\n"
   ]
  },
  {
   "cell_type": "code",
   "execution_count": 13,
   "metadata": {},
   "outputs": [
    {
     "data": {
      "text/html": [
       "<div>\n",
       "<style scoped>\n",
       "    .dataframe tbody tr th:only-of-type {\n",
       "        vertical-align: middle;\n",
       "    }\n",
       "\n",
       "    .dataframe tbody tr th {\n",
       "        vertical-align: top;\n",
       "    }\n",
       "\n",
       "    .dataframe thead th {\n",
       "        text-align: right;\n",
       "    }\n",
       "</style>\n",
       "<table border=\"1\" class=\"dataframe\">\n",
       "  <thead>\n",
       "    <tr style=\"text-align: right;\">\n",
       "      <th></th>\n",
       "      <th>Time</th>\n",
       "      <th>Pulses</th>\n",
       "      <th>Tests</th>\n",
       "      <th>R</th>\n",
       "      <th>isSucces</th>\n",
       "      <th>dt_Ron</th>\n",
       "      <th>Amp_Ron</th>\n",
       "      <th>q</th>\n",
       "      <th>E_memristor</th>\n",
       "      <th>State</th>\n",
       "      <th>Q_integrated</th>\n",
       "      <th>E_integrated</th>\n",
       "    </tr>\n",
       "  </thead>\n",
       "  <tbody>\n",
       "    <tr>\n",
       "      <th>0</th>\n",
       "      <td>1.676315e+09</td>\n",
       "      <td>0</td>\n",
       "      <td>0</td>\n",
       "      <td>736.349961</td>\n",
       "      <td>False</td>\n",
       "      <td>0.015</td>\n",
       "      <td>1.2</td>\n",
       "      <td>0.000000</td>\n",
       "      <td>0.000000</td>\n",
       "      <td>R_off</td>\n",
       "      <td>0.000000</td>\n",
       "      <td>0.000000</td>\n",
       "    </tr>\n",
       "    <tr>\n",
       "      <th>1</th>\n",
       "      <td>1.676315e+09</td>\n",
       "      <td>1</td>\n",
       "      <td>0</td>\n",
       "      <td>3.322891</td>\n",
       "      <td>False</td>\n",
       "      <td>0.015</td>\n",
       "      <td>1.2</td>\n",
       "      <td>0.002462</td>\n",
       "      <td>0.001032</td>\n",
       "      <td>Unknown</td>\n",
       "      <td>0.002462</td>\n",
       "      <td>0.001032</td>\n",
       "    </tr>\n",
       "    <tr>\n",
       "      <th>2</th>\n",
       "      <td>1.676315e+09</td>\n",
       "      <td>2</td>\n",
       "      <td>0</td>\n",
       "      <td>2.664260</td>\n",
       "      <td>True</td>\n",
       "      <td>0.015</td>\n",
       "      <td>1.2</td>\n",
       "      <td>0.002567</td>\n",
       "      <td>0.001002</td>\n",
       "      <td>R_on</td>\n",
       "      <td>0.005029</td>\n",
       "      <td>0.002034</td>\n",
       "    </tr>\n",
       "    <tr>\n",
       "      <th>3</th>\n",
       "      <td>1.676315e+09</td>\n",
       "      <td>0</td>\n",
       "      <td>1</td>\n",
       "      <td>1267.767368</td>\n",
       "      <td>False</td>\n",
       "      <td>0.015</td>\n",
       "      <td>1.2</td>\n",
       "      <td>0.000000</td>\n",
       "      <td>0.000000</td>\n",
       "      <td>R_off</td>\n",
       "      <td>0.000000</td>\n",
       "      <td>0.000000</td>\n",
       "    </tr>\n",
       "    <tr>\n",
       "      <th>4</th>\n",
       "      <td>1.676315e+09</td>\n",
       "      <td>1</td>\n",
       "      <td>1</td>\n",
       "      <td>2.491987</td>\n",
       "      <td>True</td>\n",
       "      <td>0.015</td>\n",
       "      <td>1.2</td>\n",
       "      <td>0.002442</td>\n",
       "      <td>0.001024</td>\n",
       "      <td>R_on</td>\n",
       "      <td>0.002442</td>\n",
       "      <td>0.001024</td>\n",
       "    </tr>\n",
       "    <tr>\n",
       "      <th>...</th>\n",
       "      <td>...</td>\n",
       "      <td>...</td>\n",
       "      <td>...</td>\n",
       "      <td>...</td>\n",
       "      <td>...</td>\n",
       "      <td>...</td>\n",
       "      <td>...</td>\n",
       "      <td>...</td>\n",
       "      <td>...</td>\n",
       "      <td>...</td>\n",
       "      <td>...</td>\n",
       "      <td>...</td>\n",
       "    </tr>\n",
       "    <tr>\n",
       "      <th>500</th>\n",
       "      <td>1.676316e+09</td>\n",
       "      <td>1</td>\n",
       "      <td>98</td>\n",
       "      <td>2.200976</td>\n",
       "      <td>True</td>\n",
       "      <td>0.015</td>\n",
       "      <td>1.2</td>\n",
       "      <td>0.002681</td>\n",
       "      <td>0.000949</td>\n",
       "      <td>R_on</td>\n",
       "      <td>0.002681</td>\n",
       "      <td>0.000949</td>\n",
       "    </tr>\n",
       "    <tr>\n",
       "      <th>501</th>\n",
       "      <td>1.676316e+09</td>\n",
       "      <td>0</td>\n",
       "      <td>99</td>\n",
       "      <td>815.573235</td>\n",
       "      <td>False</td>\n",
       "      <td>0.015</td>\n",
       "      <td>1.2</td>\n",
       "      <td>0.000000</td>\n",
       "      <td>0.000000</td>\n",
       "      <td>R_off</td>\n",
       "      <td>0.000000</td>\n",
       "      <td>0.000000</td>\n",
       "    </tr>\n",
       "    <tr>\n",
       "      <th>502</th>\n",
       "      <td>1.676316e+09</td>\n",
       "      <td>1</td>\n",
       "      <td>99</td>\n",
       "      <td>2.284246</td>\n",
       "      <td>True</td>\n",
       "      <td>0.015</td>\n",
       "      <td>1.2</td>\n",
       "      <td>0.002654</td>\n",
       "      <td>0.000963</td>\n",
       "      <td>R_on</td>\n",
       "      <td>0.002654</td>\n",
       "      <td>0.000963</td>\n",
       "    </tr>\n",
       "    <tr>\n",
       "      <th>503</th>\n",
       "      <td>1.676316e+09</td>\n",
       "      <td>0</td>\n",
       "      <td>100</td>\n",
       "      <td>859.415191</td>\n",
       "      <td>False</td>\n",
       "      <td>0.015</td>\n",
       "      <td>1.2</td>\n",
       "      <td>0.000000</td>\n",
       "      <td>0.000000</td>\n",
       "      <td>R_off</td>\n",
       "      <td>0.000000</td>\n",
       "      <td>0.000000</td>\n",
       "    </tr>\n",
       "    <tr>\n",
       "      <th>504</th>\n",
       "      <td>1.676316e+09</td>\n",
       "      <td>1</td>\n",
       "      <td>100</td>\n",
       "      <td>2.366919</td>\n",
       "      <td>True</td>\n",
       "      <td>0.015</td>\n",
       "      <td>1.2</td>\n",
       "      <td>0.002608</td>\n",
       "      <td>0.000984</td>\n",
       "      <td>R_on</td>\n",
       "      <td>0.002608</td>\n",
       "      <td>0.000984</td>\n",
       "    </tr>\n",
       "  </tbody>\n",
       "</table>\n",
       "<p>505 rows × 12 columns</p>\n",
       "</div>"
      ],
      "text/plain": [
       "             Time  Pulses  Tests            R  isSucces  dt_Ron  Amp_Ron  \\\n",
       "0    1.676315e+09       0      0   736.349961     False   0.015      1.2   \n",
       "1    1.676315e+09       1      0     3.322891     False   0.015      1.2   \n",
       "2    1.676315e+09       2      0     2.664260      True   0.015      1.2   \n",
       "3    1.676315e+09       0      1  1267.767368     False   0.015      1.2   \n",
       "4    1.676315e+09       1      1     2.491987      True   0.015      1.2   \n",
       "..            ...     ...    ...          ...       ...     ...      ...   \n",
       "500  1.676316e+09       1     98     2.200976      True   0.015      1.2   \n",
       "501  1.676316e+09       0     99   815.573235     False   0.015      1.2   \n",
       "502  1.676316e+09       1     99     2.284246      True   0.015      1.2   \n",
       "503  1.676316e+09       0    100   859.415191     False   0.015      1.2   \n",
       "504  1.676316e+09       1    100     2.366919      True   0.015      1.2   \n",
       "\n",
       "            q  E_memristor    State  Q_integrated  E_integrated  \n",
       "0    0.000000     0.000000    R_off      0.000000      0.000000  \n",
       "1    0.002462     0.001032  Unknown      0.002462      0.001032  \n",
       "2    0.002567     0.001002     R_on      0.005029      0.002034  \n",
       "3    0.000000     0.000000    R_off      0.000000      0.000000  \n",
       "4    0.002442     0.001024     R_on      0.002442      0.001024  \n",
       "..        ...          ...      ...           ...           ...  \n",
       "500  0.002681     0.000949     R_on      0.002681      0.000949  \n",
       "501  0.000000     0.000000    R_off      0.000000      0.000000  \n",
       "502  0.002654     0.000963     R_on      0.002654      0.000963  \n",
       "503  0.000000     0.000000    R_off      0.000000      0.000000  \n",
       "504  0.002608     0.000984     R_on      0.002608      0.000984  \n",
       "\n",
       "[505 rows x 12 columns]"
      ]
     },
     "execution_count": 13,
     "metadata": {},
     "output_type": "execute_result"
    }
   ],
   "source": [
    "data"
   ]
  },
  {
   "cell_type": "code",
   "execution_count": 14,
   "metadata": {},
   "outputs": [],
   "source": [
    "temp_data = data[data['State'] == \"Unknown\"]\n"
   ]
  },
  {
   "cell_type": "code",
   "execution_count": 15,
   "metadata": {},
   "outputs": [
    {
     "data": {
      "image/png": "[encoded data removed]",
      "text/plain": [
       "<Figure size 720x360 with 1 Axes>"
      ]
     },
     "metadata": {
      "needs_background": "light"
     },
     "output_type": "display_data"
    }
   ],
   "source": [
    "plt.figure(figsize=(10,5))\n",
    "sns.boxplot(data=temp_data, x=\"Pulses\",y=\"R\")\n",
    "plt.xlabel(\"No. of Pulses\", fontsize=15)\n",
    "plt.ylabel(\"Number of successful tests to $R_{on}$ state \", fontsize=15)\n",
    "plt.grid(True)\n",
    "\n",
    "\n"
   ]
  },
  {
   "cell_type": "code",
   "execution_count": 16,
   "metadata": {},
   "outputs": [],
   "source": [
    "temp_data = data[data['Pulses'] != 0]"
   ]
  },
  {
   "cell_type": "code",
   "execution_count": 17,
   "metadata": {},
   "outputs": [
    {
     "data": {
      "image/png": "[encoded data removed]",
      "text/plain": [
       "<Figure size 720x360 with 1 Axes>"
      ]
     },
     "metadata": {
      "needs_background": "light"
     },
     "output_type": "display_data"
    }
   ],
   "source": [
    "\n",
    "\n",
    "plt.figure(figsize=(10,5))\n",
    "sns.boxplot(data=temp_data, x=\"Pulses\",y=\"R\")\n",
    "plt.xlabel(\"No. of Pulses\", fontsize=15)\n",
    "plt.ylabel(\"Number of successful tests to $R_{on}$ state \", fontsize=15)\n",
    "plt.grid(True)\n",
    "plt.ylim((0,25))\n",
    "plt.savefig('histogram.pgf')"
   ]
  },
  {
   "cell_type": "code",
   "execution_count": 18,
   "metadata": {},
   "outputs": [
    {
     "data": {
      "text/plain": [
       "Time            1676315937.739678\n",
       "Pulses                         10\n",
       "Tests                         100\n",
       "R                       18.263465\n",
       "isSucces                     True\n",
       "dt_Ron                      0.015\n",
       "Amp_Ron                       1.2\n",
       "q                        0.002681\n",
       "E_memristor              0.001136\n",
       "State                     Unknown\n",
       "Q_integrated             0.024722\n",
       "E_integrated             0.011063\n",
       "dtype: object"
      ]
     },
     "execution_count": 18,
     "metadata": {},
     "output_type": "execute_result"
    }
   ],
   "source": [
    "k = np.logical_and( temp_data[\"Pulses\"]>=4, temp_data[\"R\"]>=100 )\n",
    "k = np.where(k==True)\n",
    "temp_data.iloc[k[0]]\n",
    "temp_data =temp_data.drop(labels = k[0],axis=0).reset_index(drop=True)\n",
    "temp_data.max()\n"
   ]
  },
  {
   "cell_type": "code",
   "execution_count": 19,
   "metadata": {},
   "outputs": [
    {
     "data": {
      "image/png": "[encoded data removed]",
      "text/plain": [
       "<Figure size 720x360 with 1 Axes>"
      ]
     },
     "metadata": {
      "needs_background": "light"
     },
     "output_type": "display_data"
    }
   ],
   "source": [
    "plt.figure(figsize=(10,5))\n",
    "max = temp_data.groupby('Pulses').max()[\"R\"]\n",
    "min = temp_data.groupby('Pulses').min()[\"R\"]\n",
    "plt.fill_between(max.index, max, min, alpha=0.4, color='blue')\n",
    "plt.xlabel(\"No. of Pulses\", fontsize=15)\n",
    "plt.ylabel(\"$Resistance\\ [k\\Omega]$ \", fontsize=15)\n",
    "plt.grid(True)\n",
    "#plt.ylim((0,25))"
   ]
  },
  {
   "cell_type": "code",
   "execution_count": 20,
   "metadata": {},
   "outputs": [
    {
     "data": {
      "text/plain": [
       "Time            1676314826.081133\n",
       "Pulses                          0\n",
       "Tests                           0\n",
       "R                      185.639894\n",
       "isSucces                    False\n",
       "dt_Ron                      0.015\n",
       "Amp_Ron                       1.2\n",
       "q                             0.0\n",
       "E_memristor                   0.0\n",
       "State                       R_off\n",
       "Q_integrated                  0.0\n",
       "E_integrated                  0.0\n",
       "dtype: object"
      ]
     },
     "execution_count": 20,
     "metadata": {},
     "output_type": "execute_result"
    }
   ],
   "source": [
    "data[data['State']==\"R_off\"].min()"
   ]
  },
  {
   "cell_type": "code",
   "execution_count": null,
   "metadata": {},
   "outputs": [],
   "source": []
  }
 ],
 "metadata": {
  "kernelspec": {
   "display_name": "base",
   "language": "python",
   "name": "python3"
  },
  "language_info": {
   "codemirror_mode": {
    "name": "ipython",
    "version": 3
   },
   "file_extension": ".py",
   "mimetype": "text/x-python",
   "name": "python",
   "nbconvert_exporter": "python",
   "pygments_lexer": "ipython3",
   "version": "3.9.12"
  },
  "orig_nbformat": 4,
  "vscode": {
   "interpreter": {
    "hash": "6f37c804ed1b5b650712d77b292b0c7c292f31bf3a49a55a7fbe49d85006f07f"
   }
  }
 },
 "nbformat": 4,
 "nbformat_minor": 2
}
