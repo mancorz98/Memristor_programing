{
 "cells": [
  {
   "cell_type": "code",
   "execution_count": null,
   "metadata": {},
   "outputs": [
    {
     "ename": "",
     "evalue": "",
     "output_type": "error",
     "traceback": [
      "\u001b[1;31mUruchomienie komórek z elementem „c:\\Python310\\python.exe” wymaga pakietu ipykernel.\n",
      "\u001b[1;31mRun the following command to install 'ipykernel' into the Python environment. \n",
      "\u001b[1;31mCommand: 'c:/Python310/python.exe -m pip install ipykernel -U --user --force-reinstall'"
     ]
    }
   ],
   "source": [
    "import pandas as pd\n",
    "import numpy as np\n",
    "import matplotlib.pyplot as plt\n",
    "import time\n",
    "import scipy.signal as signal\n",
    "import tkinter as tk\n",
    "from tkinter import filedialog\n",
    "import os\n",
    "import seaborn as sns"
   ]
  },
  {
   "cell_type": "code",
   "execution_count": null,
   "metadata": {},
   "outputs": [
    {
     "data": {
      "text/html": [
       "<div>\n",
       "<style scoped>\n",
       "    .dataframe tbody tr th:only-of-type {\n",
       "        vertical-align: middle;\n",
       "    }\n",
       "\n",
       "    .dataframe tbody tr th {\n",
       "        vertical-align: top;\n",
       "    }\n",
       "\n",
       "    .dataframe thead th {\n",
       "        text-align: right;\n",
       "    }\n",
       "</style>\n",
       "<table border=\"1\" class=\"dataframe\">\n",
       "  <thead>\n",
       "    <tr style=\"text-align: right;\">\n",
       "      <th></th>\n",
       "      <th>Timestamp</th>\n",
       "      <th>No. pulses</th>\n",
       "      <th>No. Test</th>\n",
       "      <th>R</th>\n",
       "      <th>Succes</th>\n",
       "      <th>dt_Ron</th>\n",
       "      <th>Amp_RonR</th>\n",
       "      <th>q</th>\n",
       "      <th>E_memristor</th>\n",
       "      <th>State</th>\n",
       "    </tr>\n",
       "  </thead>\n",
       "  <tbody>\n",
       "    <tr>\n",
       "      <th>0</th>\n",
       "      <td>1.675702e+09</td>\n",
       "      <td>0</td>\n",
       "      <td>0</td>\n",
       "      <td>19.598154</td>\n",
       "      <td>False</td>\n",
       "      <td>0.01</td>\n",
       "      <td>1.2</td>\n",
       "      <td>0.000000</td>\n",
       "      <td>0.000000</td>\n",
       "      <td>Unknown</td>\n",
       "    </tr>\n",
       "    <tr>\n",
       "      <th>1</th>\n",
       "      <td>1.675702e+09</td>\n",
       "      <td>1</td>\n",
       "      <td>0</td>\n",
       "      <td>1.942485</td>\n",
       "      <td>True</td>\n",
       "      <td>0.01</td>\n",
       "      <td>1.2</td>\n",
       "      <td>0.001988</td>\n",
       "      <td>0.000510</td>\n",
       "      <td>R_on</td>\n",
       "    </tr>\n",
       "    <tr>\n",
       "      <th>2</th>\n",
       "      <td>1.675702e+09</td>\n",
       "      <td>0</td>\n",
       "      <td>1</td>\n",
       "      <td>491.588277</td>\n",
       "      <td>False</td>\n",
       "      <td>0.01</td>\n",
       "      <td>1.2</td>\n",
       "      <td>0.000000</td>\n",
       "      <td>0.000000</td>\n",
       "      <td>R_off</td>\n",
       "    </tr>\n",
       "    <tr>\n",
       "      <th>3</th>\n",
       "      <td>1.675702e+09</td>\n",
       "      <td>1</td>\n",
       "      <td>1</td>\n",
       "      <td>2.040233</td>\n",
       "      <td>True</td>\n",
       "      <td>0.01</td>\n",
       "      <td>1.2</td>\n",
       "      <td>0.001931</td>\n",
       "      <td>0.000547</td>\n",
       "      <td>R_on</td>\n",
       "    </tr>\n",
       "    <tr>\n",
       "      <th>4</th>\n",
       "      <td>1.675702e+09</td>\n",
       "      <td>0</td>\n",
       "      <td>2</td>\n",
       "      <td>615.179975</td>\n",
       "      <td>False</td>\n",
       "      <td>0.01</td>\n",
       "      <td>1.2</td>\n",
       "      <td>0.000000</td>\n",
       "      <td>0.000000</td>\n",
       "      <td>R_off</td>\n",
       "    </tr>\n",
       "    <tr>\n",
       "      <th>...</th>\n",
       "      <td>...</td>\n",
       "      <td>...</td>\n",
       "      <td>...</td>\n",
       "      <td>...</td>\n",
       "      <td>...</td>\n",
       "      <td>...</td>\n",
       "      <td>...</td>\n",
       "      <td>...</td>\n",
       "      <td>...</td>\n",
       "      <td>...</td>\n",
       "    </tr>\n",
       "    <tr>\n",
       "      <th>321</th>\n",
       "      <td>1.675703e+09</td>\n",
       "      <td>0</td>\n",
       "      <td>99</td>\n",
       "      <td>483.967526</td>\n",
       "      <td>False</td>\n",
       "      <td>0.01</td>\n",
       "      <td>1.2</td>\n",
       "      <td>0.000000</td>\n",
       "      <td>0.000000</td>\n",
       "      <td>R_off</td>\n",
       "    </tr>\n",
       "    <tr>\n",
       "      <th>322</th>\n",
       "      <td>1.675703e+09</td>\n",
       "      <td>1</td>\n",
       "      <td>99</td>\n",
       "      <td>3.925421</td>\n",
       "      <td>False</td>\n",
       "      <td>0.01</td>\n",
       "      <td>1.2</td>\n",
       "      <td>0.001856</td>\n",
       "      <td>0.000583</td>\n",
       "      <td>Unknown</td>\n",
       "    </tr>\n",
       "    <tr>\n",
       "      <th>323</th>\n",
       "      <td>1.675703e+09</td>\n",
       "      <td>2</td>\n",
       "      <td>99</td>\n",
       "      <td>2.800609</td>\n",
       "      <td>True</td>\n",
       "      <td>0.01</td>\n",
       "      <td>1.2</td>\n",
       "      <td>0.001862</td>\n",
       "      <td>0.000580</td>\n",
       "      <td>R_on</td>\n",
       "    </tr>\n",
       "    <tr>\n",
       "      <th>324</th>\n",
       "      <td>1.675703e+09</td>\n",
       "      <td>0</td>\n",
       "      <td>100</td>\n",
       "      <td>249.087276</td>\n",
       "      <td>False</td>\n",
       "      <td>0.01</td>\n",
       "      <td>1.2</td>\n",
       "      <td>0.000000</td>\n",
       "      <td>0.000000</td>\n",
       "      <td>R_off</td>\n",
       "    </tr>\n",
       "    <tr>\n",
       "      <th>325</th>\n",
       "      <td>1.675703e+09</td>\n",
       "      <td>1</td>\n",
       "      <td>100</td>\n",
       "      <td>2.476065</td>\n",
       "      <td>True</td>\n",
       "      <td>0.01</td>\n",
       "      <td>1.2</td>\n",
       "      <td>0.001863</td>\n",
       "      <td>0.000579</td>\n",
       "      <td>R_on</td>\n",
       "    </tr>\n",
       "  </tbody>\n",
       "</table>\n",
       "<p>326 rows × 10 columns</p>\n",
       "</div>"
      ],
      "text/plain": [
       "        Timestamp  No. pulses   No. Test           R  Succes  dt_Ron  \\\n",
       "0    1.675702e+09           0          0   19.598154   False    0.01   \n",
       "1    1.675702e+09           1          0    1.942485    True    0.01   \n",
       "2    1.675702e+09           0          1  491.588277   False    0.01   \n",
       "3    1.675702e+09           1          1    2.040233    True    0.01   \n",
       "4    1.675702e+09           0          2  615.179975   False    0.01   \n",
       "..            ...         ...        ...         ...     ...     ...   \n",
       "321  1.675703e+09           0         99  483.967526   False    0.01   \n",
       "322  1.675703e+09           1         99    3.925421   False    0.01   \n",
       "323  1.675703e+09           2         99    2.800609    True    0.01   \n",
       "324  1.675703e+09           0        100  249.087276   False    0.01   \n",
       "325  1.675703e+09           1        100    2.476065    True    0.01   \n",
       "\n",
       "     Amp_RonR         q  E_memristor    State  \n",
       "0         1.2  0.000000     0.000000  Unknown  \n",
       "1         1.2  0.001988     0.000510     R_on  \n",
       "2         1.2  0.000000     0.000000    R_off  \n",
       "3         1.2  0.001931     0.000547     R_on  \n",
       "4         1.2  0.000000     0.000000    R_off  \n",
       "..        ...       ...          ...      ...  \n",
       "321       1.2  0.000000     0.000000    R_off  \n",
       "322       1.2  0.001856     0.000583  Unknown  \n",
       "323       1.2  0.001862     0.000580     R_on  \n",
       "324       1.2  0.000000     0.000000    R_off  \n",
       "325       1.2  0.001863     0.000579     R_on  \n",
       "\n",
       "[326 rows x 10 columns]"
      ]
     },
     "execution_count": 2,
     "metadata": {},
     "output_type": "execute_result"
    }
   ],
   "source": [
    "main_path = r\"Programowanie_Ron_wyniki_AmpOn=1.5_dtOn=0.01_1.csv\"\n",
    "data = pd.read_csv(main_path)\n",
    "data"
   ]
  },
  {
   "cell_type": "code",
   "execution_count": 3,
   "metadata": {},
   "outputs": [],
   "source": [
    "data.columns = [\"Time\", \"Pulses\", \"Tests\",'R','isSucces','dt_Ron',\n",
    "       'Amp_Ron', 'q', 'E_memristor', 'State']"
   ]
  },
  {
   "cell_type": "markdown",
   "metadata": {},
   "source": []
  },
  {
   "cell_type": "code",
   "execution_count": 4,
   "metadata": {},
   "outputs": [
    {
     "data": {
      "text/plain": [
       "Index(['Time', 'Pulses', 'Tests', 'R', 'isSucces', 'dt_Ron', 'Amp_Ron', 'q',\n",
       "       'E_memristor', 'State'],\n",
       "      dtype='object')"
      ]
     },
     "execution_count": 4,
     "metadata": {},
     "output_type": "execute_result"
    }
   ],
   "source": [
    "data.columns"
   ]
  },
  {
   "cell_type": "code",
   "execution_count": 5,
   "metadata": {},
   "outputs": [
    {
     "data": {
      "text/html": [
       "<div>\n",
       "<style scoped>\n",
       "    .dataframe tbody tr th:only-of-type {\n",
       "        vertical-align: middle;\n",
       "    }\n",
       "\n",
       "    .dataframe tbody tr th {\n",
       "        vertical-align: top;\n",
       "    }\n",
       "\n",
       "    .dataframe thead th {\n",
       "        text-align: right;\n",
       "    }\n",
       "</style>\n",
       "<table border=\"1\" class=\"dataframe\">\n",
       "  <thead>\n",
       "    <tr style=\"text-align: right;\">\n",
       "      <th></th>\n",
       "      <th>Time</th>\n",
       "      <th>Pulses</th>\n",
       "      <th>Tests</th>\n",
       "      <th>R</th>\n",
       "      <th>isSucces</th>\n",
       "      <th>dt_Ron</th>\n",
       "      <th>Amp_Ron</th>\n",
       "      <th>q</th>\n",
       "      <th>E_memristor</th>\n",
       "      <th>State</th>\n",
       "    </tr>\n",
       "  </thead>\n",
       "  <tbody>\n",
       "    <tr>\n",
       "      <th>0</th>\n",
       "      <td>1.675702e+09</td>\n",
       "      <td>0</td>\n",
       "      <td>0</td>\n",
       "      <td>19.598154</td>\n",
       "      <td>False</td>\n",
       "      <td>0.01</td>\n",
       "      <td>1.2</td>\n",
       "      <td>0.000000</td>\n",
       "      <td>0.000000</td>\n",
       "      <td>Unknown</td>\n",
       "    </tr>\n",
       "    <tr>\n",
       "      <th>1</th>\n",
       "      <td>1.675702e+09</td>\n",
       "      <td>1</td>\n",
       "      <td>0</td>\n",
       "      <td>1.942485</td>\n",
       "      <td>True</td>\n",
       "      <td>0.01</td>\n",
       "      <td>1.2</td>\n",
       "      <td>0.001988</td>\n",
       "      <td>0.000510</td>\n",
       "      <td>R_on</td>\n",
       "    </tr>\n",
       "    <tr>\n",
       "      <th>2</th>\n",
       "      <td>1.675702e+09</td>\n",
       "      <td>0</td>\n",
       "      <td>1</td>\n",
       "      <td>491.588277</td>\n",
       "      <td>False</td>\n",
       "      <td>0.01</td>\n",
       "      <td>1.2</td>\n",
       "      <td>0.000000</td>\n",
       "      <td>0.000000</td>\n",
       "      <td>R_off</td>\n",
       "    </tr>\n",
       "    <tr>\n",
       "      <th>3</th>\n",
       "      <td>1.675702e+09</td>\n",
       "      <td>1</td>\n",
       "      <td>1</td>\n",
       "      <td>2.040233</td>\n",
       "      <td>True</td>\n",
       "      <td>0.01</td>\n",
       "      <td>1.2</td>\n",
       "      <td>0.001931</td>\n",
       "      <td>0.000547</td>\n",
       "      <td>R_on</td>\n",
       "    </tr>\n",
       "    <tr>\n",
       "      <th>4</th>\n",
       "      <td>1.675702e+09</td>\n",
       "      <td>0</td>\n",
       "      <td>2</td>\n",
       "      <td>615.179975</td>\n",
       "      <td>False</td>\n",
       "      <td>0.01</td>\n",
       "      <td>1.2</td>\n",
       "      <td>0.000000</td>\n",
       "      <td>0.000000</td>\n",
       "      <td>R_off</td>\n",
       "    </tr>\n",
       "  </tbody>\n",
       "</table>\n",
       "</div>"
      ],
      "text/plain": [
       "           Time  Pulses  Tests           R  isSucces  dt_Ron  Amp_Ron  \\\n",
       "0  1.675702e+09       0      0   19.598154     False    0.01      1.2   \n",
       "1  1.675702e+09       1      0    1.942485      True    0.01      1.2   \n",
       "2  1.675702e+09       0      1  491.588277     False    0.01      1.2   \n",
       "3  1.675702e+09       1      1    2.040233      True    0.01      1.2   \n",
       "4  1.675702e+09       0      2  615.179975     False    0.01      1.2   \n",
       "\n",
       "          q  E_memristor    State  \n",
       "0  0.000000     0.000000  Unknown  \n",
       "1  0.001988     0.000510     R_on  \n",
       "2  0.000000     0.000000    R_off  \n",
       "3  0.001931     0.000547     R_on  \n",
       "4  0.000000     0.000000    R_off  "
      ]
     },
     "execution_count": 5,
     "metadata": {},
     "output_type": "execute_result"
    }
   ],
   "source": [
    "data.head()"
   ]
  },
  {
   "cell_type": "code",
   "execution_count": 6,
   "metadata": {},
   "outputs": [
    {
     "data": {
      "image/png": "[encoded data removed]",
      "text/plain": [
       "<Figure size 720x360 with 1 Axes>"
      ]
     },
     "metadata": {
      "needs_background": "light"
     },
     "output_type": "display_data"
    }
   ],
   "source": [
    "\n",
    "temp_data = data[data[\"isSucces\"]==True].groupby(by=\"Pulses\").count()\n",
    "plt.figure(figsize=(10,5))\n",
    "sns.barplot( x=temp_data.index,y=\"R\", data=temp_data)\n",
    "plt.xlabel(\"No. of Pulses\", fontsize=15)\n",
    "plt.ylabel(\"Number of successful tests to $R_{on}$ state \", fontsize=15)\n",
    "plt.grid(True)"
   ]
  },
  {
   "cell_type": "code",
   "execution_count": 7,
   "metadata": {},
   "outputs": [
    {
     "data": {
      "image/png": "[encoded data removed]",
      "text/plain": [
       "<Figure size 1440x720 with 1 Axes>"
      ]
     },
     "metadata": {
      "needs_background": "light"
     },
     "output_type": "display_data"
    }
   ],
   "source": [
    "temp_data = data[data[\"isSucces\"]==True]\n",
    "plt.figure(figsize=(20,10))\n",
    "plt.bar(x=temp_data[\"Tests\"], height=temp_data[\"Pulses\"],width=0.8)\n",
    "plt.xlabel(\"No. Tests\",fontdict={'fontsize':14})\n",
    "plt.ylabel(\"Pulses to get $R_{on}$ state\",fontdict={'fontsize':14})\n",
    "plt.grid(True)\n",
    "\n",
    "\n"
   ]
  },
  {
   "cell_type": "code",
   "execution_count": 8,
   "metadata": {},
   "outputs": [
    {
     "data": {
      "text/plain": [
       "0      0.000000\n",
       "1      0.001988\n",
       "2      0.000000\n",
       "3      0.001931\n",
       "4      0.000000\n",
       "         ...   \n",
       "321    0.000000\n",
       "322    0.001856\n",
       "323    0.003718\n",
       "324    0.000000\n",
       "325    0.001863\n",
       "Name: Q_integrated, Length: 326, dtype: float64"
      ]
     },
     "execution_count": 8,
     "metadata": {},
     "output_type": "execute_result"
    }
   ],
   "source": [
    "data['Q_integrated'] = np.nan\n",
    "data['E_integrated'] = np.nan\n",
    "\n",
    "\n",
    "\n",
    "for i in data.index:\n",
    "    if data.loc[i,\"q\"] == 0:\n",
    "        data.loc[i,\"Q_integrated\"] = 0\n",
    "    else:\n",
    "        data.loc[i,\"Q_integrated\"] = data.loc[i-1,\"Q_integrated\"]+data.loc[i,\"q\"]\n",
    "    if data.loc[i,\"E_memristor\"] == 0:\n",
    "        data.loc[i,\"E_integrated\"] = 0\n",
    "    else:\n",
    "        data.loc[i,\"E_integrated\"] = data.loc[i-1,\"E_integrated\"]+data.loc[i,\"E_memristor\"]\n",
    "\n",
    "data['Q_integrated']\n",
    "\n",
    "\n",
    "\n"
   ]
  },
  {
   "cell_type": "code",
   "execution_count": 9,
   "metadata": {},
   "outputs": [
    {
     "data": {
      "image/png": "[encoded data removed]",
      "text/plain": [
       "<Figure size 1440x720 with 1 Axes>"
      ]
     },
     "metadata": {
      "needs_background": "light"
     },
     "output_type": "display_data"
    }
   ],
   "source": [
    "temp_data = data[data[\"isSucces\"]==True]\n",
    "plt.figure(figsize=(20,10))\n",
    "plt.bar(x=temp_data[\"Tests\"], height=temp_data[\"Q_integrated\"],width=0.8)\n",
    "plt.xlabel(\"No. Test\",fontdict={'fontsize':14})\n",
    "plt.ylabel(\"Charge to get $R_{on}$ state[C]\",fontdict={'fontsize':14})\n",
    "plt.grid(True)\n",
    "\n"
   ]
  },
  {
   "cell_type": "code",
   "execution_count": 10,
   "metadata": {},
   "outputs": [
    {
     "data": {
      "image/png": "[encoded data removed]",
      "text/plain": [
       "<Figure size 1440x720 with 1 Axes>"
      ]
     },
     "metadata": {
      "needs_background": "light"
     },
     "output_type": "display_data"
    }
   ],
   "source": [
    "\n",
    "temp_data = data[data[\"isSucces\"]==True]\n",
    "plt.figure(figsize=(20,10))\n",
    "plt.bar(x=temp_data[\"Tests\"], height=temp_data[\"E_integrated\"],width=0.8,)\n",
    "plt.xlabel(\"No. Test\",fontdict={'fontsize':14})\n",
    "plt.ylabel(\"Energy on memristor to get $R_{on}$ state [mW]\",fontdict={'fontsize':14})\n",
    "plt.grid(True)\n"
   ]
  },
  {
   "cell_type": "code",
   "execution_count": 11,
   "metadata": {},
   "outputs": [
    {
     "data": {
      "text/plain": [
       "[<matplotlib.lines.Line2D at 0x7fa9aa838e50>]"
      ]
     },
     "execution_count": 11,
     "metadata": {},
     "output_type": "execute_result"
    },
    {
     "data": {
      "image/png": "[encoded data removed]",
      "text/plain": [
       "<Figure size 1440x720 with 1 Axes>"
      ]
     },
     "metadata": {
      "needs_background": "light"
     },
     "output_type": "display_data"
    }
   ],
   "source": [
    "import plotly.express as px\n",
    "from scipy.interpolate import interp1d\n",
    "\n",
    "number_of_tests = np.max(data[\"Tests\"])\n",
    "\n",
    "temp_data = data[data[\"isSucces\"]==True].groupby(by=\"Pulses\",as_index=False).count()\n",
    "temp_data['Probability'] = np.multiply(temp_data['R'],1/number_of_tests)\n",
    "temp_data.reset_index(inplace=True)\n",
    "P = 0\n",
    "for i in temp_data.index:\n",
    "    P = temp_data.loc[i,'Probability']+P\n",
    "    temp_data.loc[i,'Probability'] = P\n",
    "x = temp_data['Pulses'].to_numpy()\n",
    "x = np.insert(x,0,0)\n",
    "y = temp_data['Probability'].to_numpy()\n",
    "y = np.insert(y,0,0)*100\n",
    "\n",
    "plt.figure(figsize=(20,10))\n",
    "plt.bar(x=x, height=y,width=0.8)\n",
    "plt.xlabel(\"No. Pulses\",fontdict={'fontsize':14})\n",
    "plt.ylabel(\"Probability to get $R_{on}$ state [%]\",fontdict={'fontsize':14})\n",
    "plt.grid(True)\n",
    "x_i = np.arange(start= np.min(x),stop= np.max(x),step=0.001)\n",
    "\n",
    "cs = interp1d(x, y,kind='cubic')\n",
    "plt.plot(x_i, cs(x_i),'r') \n",
    "#bla bla\n"
   ]
  },
  {
   "cell_type": "code",
   "execution_count": 12,
   "metadata": {},
   "outputs": [
    {
     "data": {
      "image/png": "[encoded data removed]",
      "text/plain": [
       "<Figure size 1440x720 with 1 Axes>"
      ]
     },
     "metadata": {
      "needs_background": "light"
     },
     "output_type": "display_data"
    }
   ],
   "source": [
    "\n",
    "number_of_tests = np.max(data[\"Tests\"])\n",
    "\n",
    "temp_data = data[data[\"isSucces\"]==True].groupby(by=\"Q_integrated\",as_index=False).count()\n",
    "temp_data.sort_values(by=\"Q_integrated\",ascending=True,inplace=True)\n",
    "temp_data.reset_index(drop=True,inplace=True)\n",
    "temp_data\n",
    "\n",
    "temp_data['Probability'] = np.multiply(temp_data['R'],1/number_of_tests)\n",
    "P = 0\n",
    "\n",
    "for i in temp_data.index:\n",
    "    P = temp_data.loc[i,'Probability']+P\n",
    "    temp_data.loc[i,'Probability'] = P\n",
    "\n",
    "x = temp_data['Q_integrated'].to_numpy()\n",
    "x = np.insert(x,0,0)\n",
    "y = temp_data['Probability'].to_numpy()\n",
    "y = np.insert(y,0,0)*100\n",
    "\n",
    "plt.figure(figsize=(20,10))\n",
    "plt.plot(x, y)\n",
    "plt.xlabel(\"Charge [mC]\",fontdict={'fontsize':14})\n",
    "plt.ylabel(\"Probability to get $R_{on}$ state [\\%]\",fontdict={'fontsize':14})\n",
    "plt.grid(True)\n",
    "x_i = np.arange(start= np.min(x),stop= np.max(x),step=0.001)\n",
    "\n",
    "cs = interp1d(x, y,kind='previous')\n",
    "#plt.plot(x_i, cs(x_i),'r')\n",
    "\n",
    "\n"
   ]
  },
  {
   "cell_type": "code",
   "execution_count": 13,
   "metadata": {},
   "outputs": [
    {
     "data": {
      "text/html": [
       "<div>\n",
       "<style scoped>\n",
       "    .dataframe tbody tr th:only-of-type {\n",
       "        vertical-align: middle;\n",
       "    }\n",
       "\n",
       "    .dataframe tbody tr th {\n",
       "        vertical-align: top;\n",
       "    }\n",
       "\n",
       "    .dataframe thead th {\n",
       "        text-align: right;\n",
       "    }\n",
       "</style>\n",
       "<table border=\"1\" class=\"dataframe\">\n",
       "  <thead>\n",
       "    <tr style=\"text-align: right;\">\n",
       "      <th></th>\n",
       "      <th>Time</th>\n",
       "      <th>Pulses</th>\n",
       "      <th>Tests</th>\n",
       "      <th>R</th>\n",
       "      <th>isSucces</th>\n",
       "      <th>dt_Ron</th>\n",
       "      <th>Amp_Ron</th>\n",
       "      <th>q</th>\n",
       "      <th>E_memristor</th>\n",
       "      <th>State</th>\n",
       "      <th>Q_integrated</th>\n",
       "      <th>E_integrated</th>\n",
       "    </tr>\n",
       "  </thead>\n",
       "  <tbody>\n",
       "    <tr>\n",
       "      <th>0</th>\n",
       "      <td>1.675702e+09</td>\n",
       "      <td>0</td>\n",
       "      <td>0</td>\n",
       "      <td>19.598154</td>\n",
       "      <td>False</td>\n",
       "      <td>0.01</td>\n",
       "      <td>1.2</td>\n",
       "      <td>0.000000</td>\n",
       "      <td>0.000000</td>\n",
       "      <td>Unknown</td>\n",
       "      <td>0.000000</td>\n",
       "      <td>0.000000</td>\n",
       "    </tr>\n",
       "    <tr>\n",
       "      <th>1</th>\n",
       "      <td>1.675702e+09</td>\n",
       "      <td>1</td>\n",
       "      <td>0</td>\n",
       "      <td>1.942485</td>\n",
       "      <td>True</td>\n",
       "      <td>0.01</td>\n",
       "      <td>1.2</td>\n",
       "      <td>0.001988</td>\n",
       "      <td>0.000510</td>\n",
       "      <td>R_on</td>\n",
       "      <td>0.001988</td>\n",
       "      <td>0.000510</td>\n",
       "    </tr>\n",
       "    <tr>\n",
       "      <th>2</th>\n",
       "      <td>1.675702e+09</td>\n",
       "      <td>0</td>\n",
       "      <td>1</td>\n",
       "      <td>491.588277</td>\n",
       "      <td>False</td>\n",
       "      <td>0.01</td>\n",
       "      <td>1.2</td>\n",
       "      <td>0.000000</td>\n",
       "      <td>0.000000</td>\n",
       "      <td>R_off</td>\n",
       "      <td>0.000000</td>\n",
       "      <td>0.000000</td>\n",
       "    </tr>\n",
       "    <tr>\n",
       "      <th>3</th>\n",
       "      <td>1.675702e+09</td>\n",
       "      <td>1</td>\n",
       "      <td>1</td>\n",
       "      <td>2.040233</td>\n",
       "      <td>True</td>\n",
       "      <td>0.01</td>\n",
       "      <td>1.2</td>\n",
       "      <td>0.001931</td>\n",
       "      <td>0.000547</td>\n",
       "      <td>R_on</td>\n",
       "      <td>0.001931</td>\n",
       "      <td>0.000547</td>\n",
       "    </tr>\n",
       "    <tr>\n",
       "      <th>4</th>\n",
       "      <td>1.675702e+09</td>\n",
       "      <td>0</td>\n",
       "      <td>2</td>\n",
       "      <td>615.179975</td>\n",
       "      <td>False</td>\n",
       "      <td>0.01</td>\n",
       "      <td>1.2</td>\n",
       "      <td>0.000000</td>\n",
       "      <td>0.000000</td>\n",
       "      <td>R_off</td>\n",
       "      <td>0.000000</td>\n",
       "      <td>0.000000</td>\n",
       "    </tr>\n",
       "    <tr>\n",
       "      <th>...</th>\n",
       "      <td>...</td>\n",
       "      <td>...</td>\n",
       "      <td>...</td>\n",
       "      <td>...</td>\n",
       "      <td>...</td>\n",
       "      <td>...</td>\n",
       "      <td>...</td>\n",
       "      <td>...</td>\n",
       "      <td>...</td>\n",
       "      <td>...</td>\n",
       "      <td>...</td>\n",
       "      <td>...</td>\n",
       "    </tr>\n",
       "    <tr>\n",
       "      <th>321</th>\n",
       "      <td>1.675703e+09</td>\n",
       "      <td>0</td>\n",
       "      <td>99</td>\n",
       "      <td>483.967526</td>\n",
       "      <td>False</td>\n",
       "      <td>0.01</td>\n",
       "      <td>1.2</td>\n",
       "      <td>0.000000</td>\n",
       "      <td>0.000000</td>\n",
       "      <td>R_off</td>\n",
       "      <td>0.000000</td>\n",
       "      <td>0.000000</td>\n",
       "    </tr>\n",
       "    <tr>\n",
       "      <th>322</th>\n",
       "      <td>1.675703e+09</td>\n",
       "      <td>1</td>\n",
       "      <td>99</td>\n",
       "      <td>3.925421</td>\n",
       "      <td>False</td>\n",
       "      <td>0.01</td>\n",
       "      <td>1.2</td>\n",
       "      <td>0.001856</td>\n",
       "      <td>0.000583</td>\n",
       "      <td>Unknown</td>\n",
       "      <td>0.001856</td>\n",
       "      <td>0.000583</td>\n",
       "    </tr>\n",
       "    <tr>\n",
       "      <th>323</th>\n",
       "      <td>1.675703e+09</td>\n",
       "      <td>2</td>\n",
       "      <td>99</td>\n",
       "      <td>2.800609</td>\n",
       "      <td>True</td>\n",
       "      <td>0.01</td>\n",
       "      <td>1.2</td>\n",
       "      <td>0.001862</td>\n",
       "      <td>0.000580</td>\n",
       "      <td>R_on</td>\n",
       "      <td>0.003718</td>\n",
       "      <td>0.001162</td>\n",
       "    </tr>\n",
       "    <tr>\n",
       "      <th>324</th>\n",
       "      <td>1.675703e+09</td>\n",
       "      <td>0</td>\n",
       "      <td>100</td>\n",
       "      <td>249.087276</td>\n",
       "      <td>False</td>\n",
       "      <td>0.01</td>\n",
       "      <td>1.2</td>\n",
       "      <td>0.000000</td>\n",
       "      <td>0.000000</td>\n",
       "      <td>R_off</td>\n",
       "      <td>0.000000</td>\n",
       "      <td>0.000000</td>\n",
       "    </tr>\n",
       "    <tr>\n",
       "      <th>325</th>\n",
       "      <td>1.675703e+09</td>\n",
       "      <td>1</td>\n",
       "      <td>100</td>\n",
       "      <td>2.476065</td>\n",
       "      <td>True</td>\n",
       "      <td>0.01</td>\n",
       "      <td>1.2</td>\n",
       "      <td>0.001863</td>\n",
       "      <td>0.000579</td>\n",
       "      <td>R_on</td>\n",
       "      <td>0.001863</td>\n",
       "      <td>0.000579</td>\n",
       "    </tr>\n",
       "  </tbody>\n",
       "</table>\n",
       "<p>326 rows × 12 columns</p>\n",
       "</div>"
      ],
      "text/plain": [
       "             Time  Pulses  Tests           R  isSucces  dt_Ron  Amp_Ron  \\\n",
       "0    1.675702e+09       0      0   19.598154     False    0.01      1.2   \n",
       "1    1.675702e+09       1      0    1.942485      True    0.01      1.2   \n",
       "2    1.675702e+09       0      1  491.588277     False    0.01      1.2   \n",
       "3    1.675702e+09       1      1    2.040233      True    0.01      1.2   \n",
       "4    1.675702e+09       0      2  615.179975     False    0.01      1.2   \n",
       "..            ...     ...    ...         ...       ...     ...      ...   \n",
       "321  1.675703e+09       0     99  483.967526     False    0.01      1.2   \n",
       "322  1.675703e+09       1     99    3.925421     False    0.01      1.2   \n",
       "323  1.675703e+09       2     99    2.800609      True    0.01      1.2   \n",
       "324  1.675703e+09       0    100  249.087276     False    0.01      1.2   \n",
       "325  1.675703e+09       1    100    2.476065      True    0.01      1.2   \n",
       "\n",
       "            q  E_memristor    State  Q_integrated  E_integrated  \n",
       "0    0.000000     0.000000  Unknown      0.000000      0.000000  \n",
       "1    0.001988     0.000510     R_on      0.001988      0.000510  \n",
       "2    0.000000     0.000000    R_off      0.000000      0.000000  \n",
       "3    0.001931     0.000547     R_on      0.001931      0.000547  \n",
       "4    0.000000     0.000000    R_off      0.000000      0.000000  \n",
       "..        ...          ...      ...           ...           ...  \n",
       "321  0.000000     0.000000    R_off      0.000000      0.000000  \n",
       "322  0.001856     0.000583  Unknown      0.001856      0.000583  \n",
       "323  0.001862     0.000580     R_on      0.003718      0.001162  \n",
       "324  0.000000     0.000000    R_off      0.000000      0.000000  \n",
       "325  0.001863     0.000579     R_on      0.001863      0.000579  \n",
       "\n",
       "[326 rows x 12 columns]"
      ]
     },
     "execution_count": 13,
     "metadata": {},
     "output_type": "execute_result"
    }
   ],
   "source": [
    "data"
   ]
  },
  {
   "cell_type": "code",
   "execution_count": 14,
   "metadata": {},
   "outputs": [
    {
     "data": {
      "text/html": [
       "<div>\n",
       "<style scoped>\n",
       "    .dataframe tbody tr th:only-of-type {\n",
       "        vertical-align: middle;\n",
       "    }\n",
       "\n",
       "    .dataframe tbody tr th {\n",
       "        vertical-align: top;\n",
       "    }\n",
       "\n",
       "    .dataframe thead th {\n",
       "        text-align: right;\n",
       "    }\n",
       "</style>\n",
       "<table border=\"1\" class=\"dataframe\">\n",
       "  <thead>\n",
       "    <tr style=\"text-align: right;\">\n",
       "      <th></th>\n",
       "      <th>Time</th>\n",
       "      <th>Pulses</th>\n",
       "      <th>Tests</th>\n",
       "      <th>R</th>\n",
       "      <th>isSucces</th>\n",
       "      <th>dt_Ron</th>\n",
       "      <th>Amp_Ron</th>\n",
       "      <th>q</th>\n",
       "      <th>E_memristor</th>\n",
       "      <th>State</th>\n",
       "      <th>Q_integrated</th>\n",
       "      <th>E_integrated</th>\n",
       "    </tr>\n",
       "  </thead>\n",
       "  <tbody>\n",
       "    <tr>\n",
       "      <th>0</th>\n",
       "      <td>1.675702e+09</td>\n",
       "      <td>0</td>\n",
       "      <td>0</td>\n",
       "      <td>19.598154</td>\n",
       "      <td>False</td>\n",
       "      <td>0.01</td>\n",
       "      <td>1.2</td>\n",
       "      <td>0.000000</td>\n",
       "      <td>0.000000</td>\n",
       "      <td>Unknown</td>\n",
       "      <td>0.000000</td>\n",
       "      <td>0.000000</td>\n",
       "    </tr>\n",
       "    <tr>\n",
       "      <th>5</th>\n",
       "      <td>1.675702e+09</td>\n",
       "      <td>1</td>\n",
       "      <td>2</td>\n",
       "      <td>5.054541</td>\n",
       "      <td>False</td>\n",
       "      <td>0.01</td>\n",
       "      <td>1.2</td>\n",
       "      <td>0.001858</td>\n",
       "      <td>0.000591</td>\n",
       "      <td>Unknown</td>\n",
       "      <td>0.001858</td>\n",
       "      <td>0.000591</td>\n",
       "    </tr>\n",
       "    <tr>\n",
       "      <th>6</th>\n",
       "      <td>1.675702e+09</td>\n",
       "      <td>2</td>\n",
       "      <td>2</td>\n",
       "      <td>5.007797</td>\n",
       "      <td>False</td>\n",
       "      <td>0.01</td>\n",
       "      <td>1.2</td>\n",
       "      <td>0.001897</td>\n",
       "      <td>0.000568</td>\n",
       "      <td>Unknown</td>\n",
       "      <td>0.003756</td>\n",
       "      <td>0.001160</td>\n",
       "    </tr>\n",
       "    <tr>\n",
       "      <th>7</th>\n",
       "      <td>1.675702e+09</td>\n",
       "      <td>3</td>\n",
       "      <td>2</td>\n",
       "      <td>5.172865</td>\n",
       "      <td>False</td>\n",
       "      <td>0.01</td>\n",
       "      <td>1.2</td>\n",
       "      <td>0.001907</td>\n",
       "      <td>0.000562</td>\n",
       "      <td>Unknown</td>\n",
       "      <td>0.005663</td>\n",
       "      <td>0.001722</td>\n",
       "    </tr>\n",
       "    <tr>\n",
       "      <th>8</th>\n",
       "      <td>1.675702e+09</td>\n",
       "      <td>4</td>\n",
       "      <td>2</td>\n",
       "      <td>4.300951</td>\n",
       "      <td>False</td>\n",
       "      <td>0.01</td>\n",
       "      <td>1.2</td>\n",
       "      <td>0.001887</td>\n",
       "      <td>0.000564</td>\n",
       "      <td>Unknown</td>\n",
       "      <td>0.007550</td>\n",
       "      <td>0.002287</td>\n",
       "    </tr>\n",
       "    <tr>\n",
       "      <th>...</th>\n",
       "      <td>...</td>\n",
       "      <td>...</td>\n",
       "      <td>...</td>\n",
       "      <td>...</td>\n",
       "      <td>...</td>\n",
       "      <td>...</td>\n",
       "      <td>...</td>\n",
       "      <td>...</td>\n",
       "      <td>...</td>\n",
       "      <td>...</td>\n",
       "      <td>...</td>\n",
       "      <td>...</td>\n",
       "    </tr>\n",
       "    <tr>\n",
       "      <th>308</th>\n",
       "      <td>1.675703e+09</td>\n",
       "      <td>1</td>\n",
       "      <td>94</td>\n",
       "      <td>3.256495</td>\n",
       "      <td>False</td>\n",
       "      <td>0.01</td>\n",
       "      <td>1.2</td>\n",
       "      <td>0.001870</td>\n",
       "      <td>0.000574</td>\n",
       "      <td>Unknown</td>\n",
       "      <td>0.001870</td>\n",
       "      <td>0.000574</td>\n",
       "    </tr>\n",
       "    <tr>\n",
       "      <th>311</th>\n",
       "      <td>1.675703e+09</td>\n",
       "      <td>1</td>\n",
       "      <td>95</td>\n",
       "      <td>3.991098</td>\n",
       "      <td>False</td>\n",
       "      <td>0.01</td>\n",
       "      <td>1.2</td>\n",
       "      <td>0.001882</td>\n",
       "      <td>0.000568</td>\n",
       "      <td>Unknown</td>\n",
       "      <td>0.001882</td>\n",
       "      <td>0.000568</td>\n",
       "    </tr>\n",
       "    <tr>\n",
       "      <th>312</th>\n",
       "      <td>1.675703e+09</td>\n",
       "      <td>2</td>\n",
       "      <td>95</td>\n",
       "      <td>3.145921</td>\n",
       "      <td>False</td>\n",
       "      <td>0.01</td>\n",
       "      <td>1.2</td>\n",
       "      <td>0.001878</td>\n",
       "      <td>0.000580</td>\n",
       "      <td>Unknown</td>\n",
       "      <td>0.003760</td>\n",
       "      <td>0.001148</td>\n",
       "    </tr>\n",
       "    <tr>\n",
       "      <th>317</th>\n",
       "      <td>1.675703e+09</td>\n",
       "      <td>1</td>\n",
       "      <td>97</td>\n",
       "      <td>3.472473</td>\n",
       "      <td>False</td>\n",
       "      <td>0.01</td>\n",
       "      <td>1.2</td>\n",
       "      <td>0.001862</td>\n",
       "      <td>0.000589</td>\n",
       "      <td>Unknown</td>\n",
       "      <td>0.001862</td>\n",
       "      <td>0.000589</td>\n",
       "    </tr>\n",
       "    <tr>\n",
       "      <th>322</th>\n",
       "      <td>1.675703e+09</td>\n",
       "      <td>1</td>\n",
       "      <td>99</td>\n",
       "      <td>3.925421</td>\n",
       "      <td>False</td>\n",
       "      <td>0.01</td>\n",
       "      <td>1.2</td>\n",
       "      <td>0.001856</td>\n",
       "      <td>0.000583</td>\n",
       "      <td>Unknown</td>\n",
       "      <td>0.001856</td>\n",
       "      <td>0.000583</td>\n",
       "    </tr>\n",
       "  </tbody>\n",
       "</table>\n",
       "<p>129 rows × 12 columns</p>\n",
       "</div>"
      ],
      "text/plain": [
       "             Time  Pulses  Tests          R  isSucces  dt_Ron  Amp_Ron  \\\n",
       "0    1.675702e+09       0      0  19.598154     False    0.01      1.2   \n",
       "5    1.675702e+09       1      2   5.054541     False    0.01      1.2   \n",
       "6    1.675702e+09       2      2   5.007797     False    0.01      1.2   \n",
       "7    1.675702e+09       3      2   5.172865     False    0.01      1.2   \n",
       "8    1.675702e+09       4      2   4.300951     False    0.01      1.2   \n",
       "..            ...     ...    ...        ...       ...     ...      ...   \n",
       "308  1.675703e+09       1     94   3.256495     False    0.01      1.2   \n",
       "311  1.675703e+09       1     95   3.991098     False    0.01      1.2   \n",
       "312  1.675703e+09       2     95   3.145921     False    0.01      1.2   \n",
       "317  1.675703e+09       1     97   3.472473     False    0.01      1.2   \n",
       "322  1.675703e+09       1     99   3.925421     False    0.01      1.2   \n",
       "\n",
       "            q  E_memristor    State  Q_integrated  E_integrated  \n",
       "0    0.000000     0.000000  Unknown      0.000000      0.000000  \n",
       "5    0.001858     0.000591  Unknown      0.001858      0.000591  \n",
       "6    0.001897     0.000568  Unknown      0.003756      0.001160  \n",
       "7    0.001907     0.000562  Unknown      0.005663      0.001722  \n",
       "8    0.001887     0.000564  Unknown      0.007550      0.002287  \n",
       "..        ...          ...      ...           ...           ...  \n",
       "308  0.001870     0.000574  Unknown      0.001870      0.000574  \n",
       "311  0.001882     0.000568  Unknown      0.001882      0.000568  \n",
       "312  0.001878     0.000580  Unknown      0.003760      0.001148  \n",
       "317  0.001862     0.000589  Unknown      0.001862      0.000589  \n",
       "322  0.001856     0.000583  Unknown      0.001856      0.000583  \n",
       "\n",
       "[129 rows x 12 columns]"
      ]
     },
     "execution_count": 14,
     "metadata": {},
     "output_type": "execute_result"
    }
   ],
   "source": [
    "temp_data = data[data['State'] == \"Unknown\"]\n",
    "temp_data\n"
   ]
  },
  {
   "cell_type": "code",
   "execution_count": 15,
   "metadata": {},
   "outputs": [
    {
     "data": {
      "image/png": "[encoded data removed]",
      "text/plain": [
       "<Figure size 720x360 with 1 Axes>"
      ]
     },
     "metadata": {
      "needs_background": "light"
     },
     "output_type": "display_data"
    }
   ],
   "source": [
    "plt.figure(figsize=(10,5))\n",
    "sns.boxplot(data=temp_data, x=\"Pulses\",y=\"R\")\n",
    "plt.xlabel(\"No. of Pulses\", fontsize=15)\n",
    "plt.ylabel(\"Number of successful tests to $R_{on}$ state \", fontsize=15)\n",
    "plt.grid(True)"
   ]
  },
  {
   "cell_type": "code",
   "execution_count": 16,
   "metadata": {},
   "outputs": [],
   "source": [
    "temp_data = data[data['Pulses'] != 0]"
   ]
  },
  {
   "cell_type": "code",
   "execution_count": 17,
   "metadata": {},
   "outputs": [
    {
     "data": {
      "text/plain": [
       "(0.0, 25.0)"
      ]
     },
     "execution_count": 17,
     "metadata": {},
     "output_type": "execute_result"
    },
    {
     "data": {
      "image/png": "[encoded data removed]",
      "text/plain": [
       "<Figure size 720x360 with 1 Axes>"
      ]
     },
     "metadata": {
      "needs_background": "light"
     },
     "output_type": "display_data"
    }
   ],
   "source": [
    "plt.figure(figsize=(10,5))\n",
    "sns.boxplot(data=temp_data, x=\"Pulses\",y=\"R\")\n",
    "plt.xlabel(\"No. of Pulses\", fontsize=15)\n",
    "plt.ylabel(\"Number of successful tests to $R_{on}$ state \", fontsize=15)\n",
    "plt.grid(True)\n",
    "plt.ylim((0,25))"
   ]
  },
  {
   "cell_type": "code",
   "execution_count": 18,
   "metadata": {},
   "outputs": [
    {
     "data": {
      "text/plain": [
       "Time            1675702780.018402\n",
       "Pulses                         10\n",
       "Tests                         100\n",
       "R                        8.765578\n",
       "isSucces                     True\n",
       "dt_Ron                       0.01\n",
       "Amp_Ron                       1.2\n",
       "q                        0.001988\n",
       "E_memristor              0.000659\n",
       "State                     Unknown\n",
       "Q_integrated             0.018014\n",
       "E_integrated             0.006448\n",
       "dtype: object"
      ]
     },
     "execution_count": 18,
     "metadata": {},
     "output_type": "execute_result"
    }
   ],
   "source": [
    "k = np.logical_and( temp_data[\"Pulses\"]>=4, temp_data[\"R\"]>=100 )\n",
    "k = np.where(k==True)\n",
    "temp_data.iloc[k[0]]\n",
    "temp_data =temp_data.drop(labels = k[0],axis=0).reset_index(drop=True)\n",
    "temp_data.max()"
   ]
  },
  {
   "cell_type": "code",
   "execution_count": 19,
   "metadata": {},
   "outputs": [
    {
     "data": {
      "image/png": "[encoded data removed]",
      "text/plain": [
       "<Figure size 720x360 with 1 Axes>"
      ]
     },
     "metadata": {
      "needs_background": "light"
     },
     "output_type": "display_data"
    }
   ],
   "source": [
    "plt.figure(figsize=(10,5))\n",
    "max = temp_data.groupby('Pulses').max()[\"R\"]\n",
    "min = temp_data.groupby('Pulses').min()[\"R\"]\n",
    "plt.fill_between(max.index, max, min, alpha=0.4, color='blue')\n",
    "plt.xlabel(\"No. of Pulses\", fontsize=15)\n",
    "plt.ylabel(\"Resistance $[\\Omega]$ \", fontsize=15)\n",
    "plt.grid(True)\n",
    "#plt.ylim((0,25))"
   ]
  },
  {
   "cell_type": "code",
   "execution_count": 24,
   "metadata": {},
   "outputs": [
    {
     "data": {
      "text/plain": [
       "Time            1675702072.047156\n",
       "Pulses                          0\n",
       "Tests                           1\n",
       "R                      179.203629\n",
       "isSucces                    False\n",
       "dt_Ron                       0.01\n",
       "Amp_Ron                       1.2\n",
       "q                             0.0\n",
       "E_memristor                   0.0\n",
       "State                       R_off\n",
       "Q_integrated                  0.0\n",
       "E_integrated                  0.0\n",
       "dtype: object"
      ]
     },
     "execution_count": 24,
     "metadata": {},
     "output_type": "execute_result"
    }
   ],
   "source": [
    "data[data['State']==\"R_off\"].min()"
   ]
  },
  {
   "cell_type": "code",
   "execution_count": null,
   "metadata": {},
   "outputs": [],
   "source": []
  }
 ],
 "metadata": {
  "kernelspec": {
   "display_name": "Python 3",
   "language": "python",
   "name": "python3"
  },
  "language_info": {
   "codemirror_mode": {
    "name": "ipython",
    "version": 3
   },
   "file_extension": ".py",
   "mimetype": "text/x-python",
   "name": "python",
   "nbconvert_exporter": "python",
   "pygments_lexer": "ipython3",
   "version": "3.10.9"
  },
  "orig_nbformat": 4,
  "vscode": {
   "interpreter": {
    "hash": "1a92c9da1b21aa8d9deb8cc9f9686fdacb0348abfa5effd338be6a4f774d9e76"
   }
  }
 },
 "nbformat": 4,
 "nbformat_minor": 2
}
