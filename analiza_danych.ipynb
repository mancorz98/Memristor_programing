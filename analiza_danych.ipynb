{
 "cells": [
  {
   "cell_type": "code",
   "execution_count": 108,
   "metadata": {},
   "outputs": [],
   "source": [
    "import pandas as pd\n",
    "import numpy as np\n",
    "import matplotlib.pyplot as plt\n",
    "import time\n",
    "import scipy.signal as signal\n",
    "import tkinter as tk\n",
    "from tkinter import filedialog\n",
    "import os\n",
    "import seaborn as sns"
   ]
  },
  {
   "cell_type": "code",
   "execution_count": 109,
   "metadata": {},
   "outputs": [
    {
     "data": {
      "text/html": [
       "<div>\n",
       "<style scoped>\n",
       "    .dataframe tbody tr th:only-of-type {\n",
       "        vertical-align: middle;\n",
       "    }\n",
       "\n",
       "    .dataframe tbody tr th {\n",
       "        vertical-align: top;\n",
       "    }\n",
       "\n",
       "    .dataframe thead th {\n",
       "        text-align: right;\n",
       "    }\n",
       "</style>\n",
       "<table border=\"1\" class=\"dataframe\">\n",
       "  <thead>\n",
       "    <tr style=\"text-align: right;\">\n",
       "      <th></th>\n",
       "      <th>Timestamp</th>\n",
       "      <th>No. pulses</th>\n",
       "      <th>No. Test</th>\n",
       "      <th>R</th>\n",
       "      <th>Succes</th>\n",
       "      <th>dt_Ron</th>\n",
       "      <th>Amp_RonR</th>\n",
       "      <th>q</th>\n",
       "      <th>E_memristor</th>\n",
       "      <th>State</th>\n",
       "    </tr>\n",
       "  </thead>\n",
       "  <tbody>\n",
       "    <tr>\n",
       "      <th>0</th>\n",
       "      <td>1.675684e+09</td>\n",
       "      <td>0</td>\n",
       "      <td>0</td>\n",
       "      <td>585.831974</td>\n",
       "      <td>False</td>\n",
       "      <td>0.01</td>\n",
       "      <td>1</td>\n",
       "      <td>0.000000</td>\n",
       "      <td>0.000000</td>\n",
       "      <td>R_off</td>\n",
       "    </tr>\n",
       "    <tr>\n",
       "      <th>1</th>\n",
       "      <td>1.675684e+09</td>\n",
       "      <td>1</td>\n",
       "      <td>0</td>\n",
       "      <td>3.167596</td>\n",
       "      <td>False</td>\n",
       "      <td>0.01</td>\n",
       "      <td>1</td>\n",
       "      <td>0.001459</td>\n",
       "      <td>0.000449</td>\n",
       "      <td>Unknown</td>\n",
       "    </tr>\n",
       "    <tr>\n",
       "      <th>2</th>\n",
       "      <td>1.675684e+09</td>\n",
       "      <td>2</td>\n",
       "      <td>0</td>\n",
       "      <td>3.106066</td>\n",
       "      <td>False</td>\n",
       "      <td>0.01</td>\n",
       "      <td>1</td>\n",
       "      <td>0.001436</td>\n",
       "      <td>0.000459</td>\n",
       "      <td>Unknown</td>\n",
       "    </tr>\n",
       "    <tr>\n",
       "      <th>3</th>\n",
       "      <td>1.675684e+09</td>\n",
       "      <td>3</td>\n",
       "      <td>0</td>\n",
       "      <td>3.044520</td>\n",
       "      <td>False</td>\n",
       "      <td>0.01</td>\n",
       "      <td>1</td>\n",
       "      <td>0.001435</td>\n",
       "      <td>0.000459</td>\n",
       "      <td>Unknown</td>\n",
       "    </tr>\n",
       "    <tr>\n",
       "      <th>4</th>\n",
       "      <td>1.675684e+09</td>\n",
       "      <td>4</td>\n",
       "      <td>0</td>\n",
       "      <td>2.943806</td>\n",
       "      <td>True</td>\n",
       "      <td>0.01</td>\n",
       "      <td>1</td>\n",
       "      <td>0.001442</td>\n",
       "      <td>0.000457</td>\n",
       "      <td>R_on</td>\n",
       "    </tr>\n",
       "    <tr>\n",
       "      <th>...</th>\n",
       "      <td>...</td>\n",
       "      <td>...</td>\n",
       "      <td>...</td>\n",
       "      <td>...</td>\n",
       "      <td>...</td>\n",
       "      <td>...</td>\n",
       "      <td>...</td>\n",
       "      <td>...</td>\n",
       "      <td>...</td>\n",
       "      <td>...</td>\n",
       "    </tr>\n",
       "    <tr>\n",
       "      <th>398</th>\n",
       "      <td>1.675684e+09</td>\n",
       "      <td>2</td>\n",
       "      <td>100</td>\n",
       "      <td>3.090072</td>\n",
       "      <td>False</td>\n",
       "      <td>0.01</td>\n",
       "      <td>1</td>\n",
       "      <td>0.001440</td>\n",
       "      <td>0.000457</td>\n",
       "      <td>Unknown</td>\n",
       "    </tr>\n",
       "    <tr>\n",
       "      <th>399</th>\n",
       "      <td>1.675684e+09</td>\n",
       "      <td>3</td>\n",
       "      <td>100</td>\n",
       "      <td>3.107881</td>\n",
       "      <td>False</td>\n",
       "      <td>0.01</td>\n",
       "      <td>1</td>\n",
       "      <td>0.001434</td>\n",
       "      <td>0.000459</td>\n",
       "      <td>Unknown</td>\n",
       "    </tr>\n",
       "    <tr>\n",
       "      <th>400</th>\n",
       "      <td>1.675684e+09</td>\n",
       "      <td>4</td>\n",
       "      <td>100</td>\n",
       "      <td>3.077192</td>\n",
       "      <td>False</td>\n",
       "      <td>0.01</td>\n",
       "      <td>1</td>\n",
       "      <td>0.001429</td>\n",
       "      <td>0.000461</td>\n",
       "      <td>Unknown</td>\n",
       "    </tr>\n",
       "    <tr>\n",
       "      <th>401</th>\n",
       "      <td>1.675684e+09</td>\n",
       "      <td>5</td>\n",
       "      <td>100</td>\n",
       "      <td>3.189538</td>\n",
       "      <td>False</td>\n",
       "      <td>0.01</td>\n",
       "      <td>1</td>\n",
       "      <td>0.001416</td>\n",
       "      <td>0.000466</td>\n",
       "      <td>Unknown</td>\n",
       "    </tr>\n",
       "    <tr>\n",
       "      <th>402</th>\n",
       "      <td>1.675684e+09</td>\n",
       "      <td>6</td>\n",
       "      <td>100</td>\n",
       "      <td>2.992633</td>\n",
       "      <td>True</td>\n",
       "      <td>0.01</td>\n",
       "      <td>1</td>\n",
       "      <td>0.001437</td>\n",
       "      <td>0.000458</td>\n",
       "      <td>R_on</td>\n",
       "    </tr>\n",
       "  </tbody>\n",
       "</table>\n",
       "<p>403 rows × 10 columns</p>\n",
       "</div>"
      ],
      "text/plain": [
       "        Timestamp  No. pulses   No. Test           R  Succes  dt_Ron  \\\n",
       "0    1.675684e+09           0          0  585.831974   False    0.01   \n",
       "1    1.675684e+09           1          0    3.167596   False    0.01   \n",
       "2    1.675684e+09           2          0    3.106066   False    0.01   \n",
       "3    1.675684e+09           3          0    3.044520   False    0.01   \n",
       "4    1.675684e+09           4          0    2.943806    True    0.01   \n",
       "..            ...         ...        ...         ...     ...     ...   \n",
       "398  1.675684e+09           2        100    3.090072   False    0.01   \n",
       "399  1.675684e+09           3        100    3.107881   False    0.01   \n",
       "400  1.675684e+09           4        100    3.077192   False    0.01   \n",
       "401  1.675684e+09           5        100    3.189538   False    0.01   \n",
       "402  1.675684e+09           6        100    2.992633    True    0.01   \n",
       "\n",
       "     Amp_RonR         q  E_memristor    State  \n",
       "0           1  0.000000     0.000000    R_off  \n",
       "1           1  0.001459     0.000449  Unknown  \n",
       "2           1  0.001436     0.000459  Unknown  \n",
       "3           1  0.001435     0.000459  Unknown  \n",
       "4           1  0.001442     0.000457     R_on  \n",
       "..        ...       ...          ...      ...  \n",
       "398         1  0.001440     0.000457  Unknown  \n",
       "399         1  0.001434     0.000459  Unknown  \n",
       "400         1  0.001429     0.000461  Unknown  \n",
       "401         1  0.001416     0.000466  Unknown  \n",
       "402         1  0.001437     0.000458     R_on  \n",
       "\n",
       "[403 rows x 10 columns]"
      ]
     },
     "execution_count": 109,
     "metadata": {},
     "output_type": "execute_result"
    }
   ],
   "source": [
    "main_path = r\"Programowanie_Ron_wyniki_AmpOn=1_dtOn=0.01_1.csv\"\n",
    "data = pd.read_csv(main_path)\n",
    "data"
   ]
  },
  {
   "cell_type": "code",
   "execution_count": 110,
   "metadata": {},
   "outputs": [],
   "source": [
    "data.columns = [\"Time\", \"Pulses\", \"Tests\",'R','isSucces','dt_Ron',\n",
    "       'Amp_Ron', 'q', 'E_memristor', 'State']"
   ]
  },
  {
   "cell_type": "code",
   "execution_count": 111,
   "metadata": {},
   "outputs": [
    {
     "data": {
      "text/plain": [
       "Index(['Time', 'Pulses', 'Tests', 'R', 'isSucces', 'dt_Ron', 'Amp_Ron', 'q',\n",
       "       'E_memristor', 'State'],\n",
       "      dtype='object')"
      ]
     },
     "execution_count": 111,
     "metadata": {},
     "output_type": "execute_result"
    }
   ],
   "source": [
    "data.columns"
   ]
  },
  {
   "cell_type": "code",
   "execution_count": 112,
   "metadata": {},
   "outputs": [
    {
     "data": {
      "text/html": [
       "<div>\n",
       "<style scoped>\n",
       "    .dataframe tbody tr th:only-of-type {\n",
       "        vertical-align: middle;\n",
       "    }\n",
       "\n",
       "    .dataframe tbody tr th {\n",
       "        vertical-align: top;\n",
       "    }\n",
       "\n",
       "    .dataframe thead th {\n",
       "        text-align: right;\n",
       "    }\n",
       "</style>\n",
       "<table border=\"1\" class=\"dataframe\">\n",
       "  <thead>\n",
       "    <tr style=\"text-align: right;\">\n",
       "      <th></th>\n",
       "      <th>Time</th>\n",
       "      <th>Pulses</th>\n",
       "      <th>Tests</th>\n",
       "      <th>R</th>\n",
       "      <th>isSucces</th>\n",
       "      <th>dt_Ron</th>\n",
       "      <th>Amp_Ron</th>\n",
       "      <th>q</th>\n",
       "      <th>E_memristor</th>\n",
       "      <th>State</th>\n",
       "    </tr>\n",
       "  </thead>\n",
       "  <tbody>\n",
       "    <tr>\n",
       "      <th>0</th>\n",
       "      <td>1.675684e+09</td>\n",
       "      <td>0</td>\n",
       "      <td>0</td>\n",
       "      <td>585.831974</td>\n",
       "      <td>False</td>\n",
       "      <td>0.01</td>\n",
       "      <td>1</td>\n",
       "      <td>0.000000</td>\n",
       "      <td>0.000000</td>\n",
       "      <td>R_off</td>\n",
       "    </tr>\n",
       "    <tr>\n",
       "      <th>1</th>\n",
       "      <td>1.675684e+09</td>\n",
       "      <td>1</td>\n",
       "      <td>0</td>\n",
       "      <td>3.167596</td>\n",
       "      <td>False</td>\n",
       "      <td>0.01</td>\n",
       "      <td>1</td>\n",
       "      <td>0.001459</td>\n",
       "      <td>0.000449</td>\n",
       "      <td>Unknown</td>\n",
       "    </tr>\n",
       "    <tr>\n",
       "      <th>2</th>\n",
       "      <td>1.675684e+09</td>\n",
       "      <td>2</td>\n",
       "      <td>0</td>\n",
       "      <td>3.106066</td>\n",
       "      <td>False</td>\n",
       "      <td>0.01</td>\n",
       "      <td>1</td>\n",
       "      <td>0.001436</td>\n",
       "      <td>0.000459</td>\n",
       "      <td>Unknown</td>\n",
       "    </tr>\n",
       "    <tr>\n",
       "      <th>3</th>\n",
       "      <td>1.675684e+09</td>\n",
       "      <td>3</td>\n",
       "      <td>0</td>\n",
       "      <td>3.044520</td>\n",
       "      <td>False</td>\n",
       "      <td>0.01</td>\n",
       "      <td>1</td>\n",
       "      <td>0.001435</td>\n",
       "      <td>0.000459</td>\n",
       "      <td>Unknown</td>\n",
       "    </tr>\n",
       "    <tr>\n",
       "      <th>4</th>\n",
       "      <td>1.675684e+09</td>\n",
       "      <td>4</td>\n",
       "      <td>0</td>\n",
       "      <td>2.943806</td>\n",
       "      <td>True</td>\n",
       "      <td>0.01</td>\n",
       "      <td>1</td>\n",
       "      <td>0.001442</td>\n",
       "      <td>0.000457</td>\n",
       "      <td>R_on</td>\n",
       "    </tr>\n",
       "  </tbody>\n",
       "</table>\n",
       "</div>"
      ],
      "text/plain": [
       "           Time  Pulses  Tests           R  isSucces  dt_Ron  Amp_Ron  \\\n",
       "0  1.675684e+09       0      0  585.831974     False    0.01        1   \n",
       "1  1.675684e+09       1      0    3.167596     False    0.01        1   \n",
       "2  1.675684e+09       2      0    3.106066     False    0.01        1   \n",
       "3  1.675684e+09       3      0    3.044520     False    0.01        1   \n",
       "4  1.675684e+09       4      0    2.943806      True    0.01        1   \n",
       "\n",
       "          q  E_memristor    State  \n",
       "0  0.000000     0.000000    R_off  \n",
       "1  0.001459     0.000449  Unknown  \n",
       "2  0.001436     0.000459  Unknown  \n",
       "3  0.001435     0.000459  Unknown  \n",
       "4  0.001442     0.000457     R_on  "
      ]
     },
     "execution_count": 112,
     "metadata": {},
     "output_type": "execute_result"
    }
   ],
   "source": [
    "data.head()"
   ]
  },
  {
   "cell_type": "code",
   "execution_count": 113,
   "metadata": {},
   "outputs": [
    {
     "data": {
      "image/png": "[encoded data removed]",
      "text/plain": [
       "<Figure size 720x360 with 1 Axes>"
      ]
     },
     "metadata": {
      "needs_background": "light"
     },
     "output_type": "display_data"
    }
   ],
   "source": [
    "temp_data = data[data[\"isSucces\"]==True].groupby(by=\"Pulses\").count()\n",
    "plt.figure(figsize=(10,5))\n",
    "sns.barplot( x=temp_data.index,y=\"R\", data=temp_data)\n",
    "plt.xlabel(\"No. of Pulses\", fontsize=15)\n",
    "plt.ylabel(\"Number of successful tests to $R_{on}$ state \", fontsize=15)\n",
    "plt.grid(True)"
   ]
  },
  {
   "cell_type": "code",
   "execution_count": 114,
   "metadata": {},
   "outputs": [
    {
     "data": {
      "image/png": "[encoded data removed]",
      "text/plain": [
       "<Figure size 1440x720 with 1 Axes>"
      ]
     },
     "metadata": {
      "needs_background": "light"
     },
     "output_type": "display_data"
    }
   ],
   "source": [
    "temp_data = data[data[\"isSucces\"]==True]\n",
    "plt.figure(figsize=(20,10))\n",
    "plt.bar(x=temp_data[\"Tests\"], height=temp_data[\"Pulses\"],width=0.8)\n",
    "plt.xlabel(\"No. Tests\",fontdict={'fontsize':14})\n",
    "plt.ylabel(\"Pulses to get $R_{on}$ state\",fontdict={'fontsize':14})\n",
    "plt.grid(True)\n",
    "\n",
    "\n"
   ]
  },
  {
   "cell_type": "code",
   "execution_count": 115,
   "metadata": {},
   "outputs": [
    {
     "data": {
      "text/plain": [
       "0      0.000000\n",
       "1      0.001459\n",
       "2      0.002894\n",
       "3      0.004329\n",
       "4      0.005771\n",
       "         ...   \n",
       "398    0.002901\n",
       "399    0.004335\n",
       "400    0.005764\n",
       "401    0.007180\n",
       "402    0.008617\n",
       "Name: Q_integrated, Length: 403, dtype: float64"
      ]
     },
     "execution_count": 115,
     "metadata": {},
     "output_type": "execute_result"
    }
   ],
   "source": [
    "data['Q_integrated'] = np.nan\n",
    "data['E_integrated'] = np.nan\n",
    "\n",
    "\n",
    "\n",
    "for i in data.index:\n",
    "    if data.loc[i,\"q\"] == 0:\n",
    "        data.loc[i,\"Q_integrated\"] = 0\n",
    "    else:\n",
    "        data.loc[i,\"Q_integrated\"] = data.loc[i-1,\"Q_integrated\"]+data.loc[i,\"q\"]\n",
    "    if data.loc[i,\"E_memristor\"] == 0:\n",
    "        data.loc[i,\"E_integrated\"] = 0\n",
    "    else:\n",
    "        data.loc[i,\"E_integrated\"] = data.loc[i-1,\"E_integrated\"]+data.loc[i,\"E_memristor\"]\n",
    "\n",
    "data['Q_integrated']\n",
    "\n",
    "\n",
    "\n"
   ]
  },
  {
   "cell_type": "code",
   "execution_count": 116,
   "metadata": {},
   "outputs": [
    {
     "data": {
      "image/png": "[encoded data removed]",
      "text/plain": [
       "<Figure size 1440x720 with 1 Axes>"
      ]
     },
     "metadata": {
      "needs_background": "light"
     },
     "output_type": "display_data"
    }
   ],
   "source": [
    "temp_data = data[data[\"isSucces\"]==True]\n",
    "plt.figure(figsize=(20,10))\n",
    "plt.bar(x=temp_data[\"Tests\"], height=temp_data[\"Q_integrated\"],width=0.8)\n",
    "plt.xlabel(\"No. Test\",fontdict={'fontsize':14})\n",
    "plt.ylabel(\"Charge to get $R_{on}$ state[C]\",fontdict={'fontsize':14})\n",
    "plt.grid(True)\n",
    "\n"
   ]
  },
  {
   "cell_type": "code",
   "execution_count": 117,
   "metadata": {},
   "outputs": [
    {
     "data": {
      "image/png": "[encoded data removed]",
      "text/plain": [
       "<Figure size 1440x720 with 1 Axes>"
      ]
     },
     "metadata": {
      "needs_background": "light"
     },
     "output_type": "display_data"
    }
   ],
   "source": [
    "\n",
    "temp_data = data[data[\"isSucces\"]==True]\n",
    "plt.figure(figsize=(20,10))\n",
    "plt.bar(x=temp_data[\"Tests\"], height=temp_data[\"E_integrated\"],width=0.8,)\n",
    "plt.xlabel(\"No. Test\",fontdict={'fontsize':14})\n",
    "plt.ylabel(\"Energy on memristor to get $R_{on}$ state [W]\",fontdict={'fontsize':14})\n",
    "plt.grid(True)\n"
   ]
  },
  {
   "cell_type": "code",
   "execution_count": 135,
   "metadata": {},
   "outputs": [
    {
     "data": {
      "text/plain": [
       "[<matplotlib.lines.Line2D at 0x7fafb055e640>]"
      ]
     },
     "execution_count": 135,
     "metadata": {},
     "output_type": "execute_result"
    },
    {
     "data": {
      "image/png": "[encoded data removed]",
      "text/plain": [
       "<Figure size 1440x720 with 1 Axes>"
      ]
     },
     "metadata": {
      "needs_background": "light"
     },
     "output_type": "display_data"
    }
   ],
   "source": [
    "import plotly.express as px\n",
    "from scipy.interpolate import interp1d\n",
    "\n",
    "number_of_tests = np.max(data[\"Tests\"])\n",
    "\n",
    "temp_data = data[data[\"isSucces\"]==True].groupby(by=\"Pulses\",as_index=False).count()\n",
    "temp_data['Probability'] = np.multiply(temp_data['R'],1/number_of_tests)\n",
    "P = 0\n",
    "for i in temp_data.index:\n",
    "    P = temp_data.loc[i,'Probability']+P\n",
    "    temp_data.loc[i,'Probability'] = P\n",
    "x = temp_data['Pulses'].to_numpy()\n",
    "x = np.insert(x,0,0)\n",
    "y = temp_data['Probability'].to_numpy()\n",
    "y = np.insert(y,0,0)*100\n",
    "\n",
    "plt.figure(figsize=(20,10))\n",
    "plt.bar(x=x, height=y,width=0.8)\n",
    "plt.xlabel(\"No. Pulses\",fontdict={'fontsize':14})\n",
    "plt.ylabel(\"Probability to get $R_{on}$ state [%]\",fontdict={'fontsize':14})\n",
    "plt.grid(True)\n",
    "x_i = np.arange(start= np.min(x),stop= np.max(x),step=0.001)\n",
    "\n",
    "cs = interp1d(x, y,kind='cubic')\n",
    "plt.plot(x_i, cs(x_i),'r')\n"
   ]
  },
  {
   "cell_type": "code",
   "execution_count": 124,
   "metadata": {},
   "outputs": [
    {
     "data": {
      "text/plain": [
       "array([ 0,  1,  2,  3,  4,  5,  6,  8,  9, 10])"
      ]
     },
     "execution_count": 124,
     "metadata": {},
     "output_type": "execute_result"
    }
   ],
   "source": [
    "x"
   ]
  },
  {
   "cell_type": "code",
   "execution_count": null,
   "metadata": {},
   "outputs": [],
   "source": []
  }
 ],
 "metadata": {
  "kernelspec": {
   "display_name": "base",
   "language": "python",
   "name": "python3"
  },
  "language_info": {
   "codemirror_mode": {
    "name": "ipython",
    "version": 3
   },
   "file_extension": ".py",
   "mimetype": "text/x-python",
   "name": "python",
   "nbconvert_exporter": "python",
   "pygments_lexer": "ipython3",
   "version": "3.9.12"
  },
  "orig_nbformat": 4,
  "vscode": {
   "interpreter": {
    "hash": "6f37c804ed1b5b650712d77b292b0c7c292f31bf3a49a55a7fbe49d85006f07f"
   }
  }
 },
 "nbformat": 4,
 "nbformat_minor": 2
}
