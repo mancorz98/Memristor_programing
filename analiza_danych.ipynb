{
 "cells": [
  {
   "cell_type": "code",
   "execution_count": 1,
   "metadata": {},
   "outputs": [],
   "source": [
    "import pandas as pd\n",
    "import numpy as np\n",
    "import matplotlib.pyplot as plt\n",
    "import matplotlib     \n",
    "import time\n",
    "import scipy.signal as signal\n",
    "import os\n",
    "import seaborn as sns\n",
    "import latex\n",
    "\n",
    "matplotlib.rcParams.update(matplotlib.rcParamsDefault)\n",
    "%matplotlib inline"
   ]
  },
  {
   "cell_type": "code",
   "execution_count": 65,
   "metadata": {},
   "outputs": [
    {
     "data": {
      "text/html": [
       "<div>\n",
       "<style scoped>\n",
       "    .dataframe tbody tr th:only-of-type {\n",
       "        vertical-align: middle;\n",
       "    }\n",
       "\n",
       "    .dataframe tbody tr th {\n",
       "        vertical-align: top;\n",
       "    }\n",
       "\n",
       "    .dataframe thead th {\n",
       "        text-align: right;\n",
       "    }\n",
       "</style>\n",
       "<table border=\"1\" class=\"dataframe\">\n",
       "  <thead>\n",
       "    <tr style=\"text-align: right;\">\n",
       "      <th></th>\n",
       "      <th>Timestamp</th>\n",
       "      <th>No. pulses</th>\n",
       "      <th>No. Test</th>\n",
       "      <th>R</th>\n",
       "      <th>Succes</th>\n",
       "      <th>dt_Ron</th>\n",
       "      <th>Amp_RonR</th>\n",
       "      <th>q</th>\n",
       "      <th>E_memristor</th>\n",
       "      <th>State</th>\n",
       "    </tr>\n",
       "  </thead>\n",
       "  <tbody>\n",
       "    <tr>\n",
       "      <th>0</th>\n",
       "      <td>1.676310e+09</td>\n",
       "      <td>0</td>\n",
       "      <td>0</td>\n",
       "      <td>799.418383</td>\n",
       "      <td>False</td>\n",
       "      <td>0.015</td>\n",
       "      <td>1.5</td>\n",
       "      <td>0.000000</td>\n",
       "      <td>0.000000</td>\n",
       "      <td>R_off</td>\n",
       "    </tr>\n",
       "    <tr>\n",
       "      <th>1</th>\n",
       "      <td>1.676310e+09</td>\n",
       "      <td>1</td>\n",
       "      <td>0</td>\n",
       "      <td>5.583429</td>\n",
       "      <td>False</td>\n",
       "      <td>0.015</td>\n",
       "      <td>1.5</td>\n",
       "      <td>0.002587</td>\n",
       "      <td>0.001748</td>\n",
       "      <td>Unknown</td>\n",
       "    </tr>\n",
       "    <tr>\n",
       "      <th>2</th>\n",
       "      <td>1.676310e+09</td>\n",
       "      <td>2</td>\n",
       "      <td>0</td>\n",
       "      <td>2.827080</td>\n",
       "      <td>True</td>\n",
       "      <td>0.015</td>\n",
       "      <td>1.5</td>\n",
       "      <td>0.003212</td>\n",
       "      <td>0.001524</td>\n",
       "      <td>R_on</td>\n",
       "    </tr>\n",
       "    <tr>\n",
       "      <th>3</th>\n",
       "      <td>1.676310e+09</td>\n",
       "      <td>0</td>\n",
       "      <td>1</td>\n",
       "      <td>577.472372</td>\n",
       "      <td>False</td>\n",
       "      <td>0.015</td>\n",
       "      <td>1.5</td>\n",
       "      <td>0.000000</td>\n",
       "      <td>0.000000</td>\n",
       "      <td>R_off</td>\n",
       "    </tr>\n",
       "    <tr>\n",
       "      <th>4</th>\n",
       "      <td>1.676310e+09</td>\n",
       "      <td>1</td>\n",
       "      <td>1</td>\n",
       "      <td>1.687071</td>\n",
       "      <td>True</td>\n",
       "      <td>0.015</td>\n",
       "      <td>1.5</td>\n",
       "      <td>0.003706</td>\n",
       "      <td>0.001198</td>\n",
       "      <td>R_on</td>\n",
       "    </tr>\n",
       "    <tr>\n",
       "      <th>...</th>\n",
       "      <td>...</td>\n",
       "      <td>...</td>\n",
       "      <td>...</td>\n",
       "      <td>...</td>\n",
       "      <td>...</td>\n",
       "      <td>...</td>\n",
       "      <td>...</td>\n",
       "      <td>...</td>\n",
       "      <td>...</td>\n",
       "      <td>...</td>\n",
       "    </tr>\n",
       "    <tr>\n",
       "      <th>336</th>\n",
       "      <td>1.676311e+09</td>\n",
       "      <td>4</td>\n",
       "      <td>99</td>\n",
       "      <td>2.970202</td>\n",
       "      <td>True</td>\n",
       "      <td>0.015</td>\n",
       "      <td>1.5</td>\n",
       "      <td>0.003250</td>\n",
       "      <td>0.001531</td>\n",
       "      <td>R_on</td>\n",
       "    </tr>\n",
       "    <tr>\n",
       "      <th>337</th>\n",
       "      <td>1.676311e+09</td>\n",
       "      <td>0</td>\n",
       "      <td>100</td>\n",
       "      <td>507.246247</td>\n",
       "      <td>False</td>\n",
       "      <td>0.015</td>\n",
       "      <td>1.5</td>\n",
       "      <td>0.000000</td>\n",
       "      <td>0.000000</td>\n",
       "      <td>R_off</td>\n",
       "    </tr>\n",
       "    <tr>\n",
       "      <th>338</th>\n",
       "      <td>1.676311e+09</td>\n",
       "      <td>1</td>\n",
       "      <td>100</td>\n",
       "      <td>3.183956</td>\n",
       "      <td>False</td>\n",
       "      <td>0.015</td>\n",
       "      <td>1.5</td>\n",
       "      <td>0.003197</td>\n",
       "      <td>0.001569</td>\n",
       "      <td>Unknown</td>\n",
       "    </tr>\n",
       "    <tr>\n",
       "      <th>339</th>\n",
       "      <td>1.676311e+09</td>\n",
       "      <td>2</td>\n",
       "      <td>100</td>\n",
       "      <td>3.012139</td>\n",
       "      <td>False</td>\n",
       "      <td>0.015</td>\n",
       "      <td>1.5</td>\n",
       "      <td>0.003252</td>\n",
       "      <td>0.001543</td>\n",
       "      <td>Unknown</td>\n",
       "    </tr>\n",
       "    <tr>\n",
       "      <th>340</th>\n",
       "      <td>1.676311e+09</td>\n",
       "      <td>3</td>\n",
       "      <td>100</td>\n",
       "      <td>2.965158</td>\n",
       "      <td>True</td>\n",
       "      <td>0.015</td>\n",
       "      <td>1.5</td>\n",
       "      <td>0.003251</td>\n",
       "      <td>0.001530</td>\n",
       "      <td>R_on</td>\n",
       "    </tr>\n",
       "  </tbody>\n",
       "</table>\n",
       "<p>341 rows × 10 columns</p>\n",
       "</div>"
      ],
      "text/plain": [
       "        Timestamp  No. pulses   No. Test           R  Succes  dt_Ron  \\\n",
       "0    1.676310e+09           0          0  799.418383   False   0.015   \n",
       "1    1.676310e+09           1          0    5.583429   False   0.015   \n",
       "2    1.676310e+09           2          0    2.827080    True   0.015   \n",
       "3    1.676310e+09           0          1  577.472372   False   0.015   \n",
       "4    1.676310e+09           1          1    1.687071    True   0.015   \n",
       "..            ...         ...        ...         ...     ...     ...   \n",
       "336  1.676311e+09           4         99    2.970202    True   0.015   \n",
       "337  1.676311e+09           0        100  507.246247   False   0.015   \n",
       "338  1.676311e+09           1        100    3.183956   False   0.015   \n",
       "339  1.676311e+09           2        100    3.012139   False   0.015   \n",
       "340  1.676311e+09           3        100    2.965158    True   0.015   \n",
       "\n",
       "     Amp_RonR         q  E_memristor    State  \n",
       "0         1.5  0.000000     0.000000    R_off  \n",
       "1         1.5  0.002587     0.001748  Unknown  \n",
       "2         1.5  0.003212     0.001524     R_on  \n",
       "3         1.5  0.000000     0.000000    R_off  \n",
       "4         1.5  0.003706     0.001198     R_on  \n",
       "..        ...       ...          ...      ...  \n",
       "336       1.5  0.003250     0.001531     R_on  \n",
       "337       1.5  0.000000     0.000000    R_off  \n",
       "338       1.5  0.003197     0.001569  Unknown  \n",
       "339       1.5  0.003252     0.001543  Unknown  \n",
       "340       1.5  0.003251     0.001530     R_on  \n",
       "\n",
       "[341 rows x 10 columns]"
      ]
     },
     "execution_count": 65,
     "metadata": {},
     "output_type": "execute_result"
    }
   ],
   "source": [
    "main_path = r\"Programowanie_Ron_wyniki/Programowanie_Ron_wyniki_AmpOn=1.5_dtOn=0.015_1.csv\"\n",
    "data = pd.read_csv(main_path)\n",
    "data"
   ]
  },
  {
   "cell_type": "code",
   "execution_count": 66,
   "metadata": {},
   "outputs": [],
   "source": [
    "data.columns = [\"Time\", \"Pulses\", \"Tests\",'R','isSucces','dt_Ron',\n",
    "       'Amp_Ron', 'q', 'E_memristor', 'State']"
   ]
  },
  {
   "cell_type": "markdown",
   "metadata": {},
   "source": []
  },
  {
   "cell_type": "code",
   "execution_count": 67,
   "metadata": {},
   "outputs": [
    {
     "data": {
      "text/plain": [
       "Index(['Time', 'Pulses', 'Tests', 'R', 'isSucces', 'dt_Ron', 'Amp_Ron', 'q',\n",
       "       'E_memristor', 'State'],\n",
       "      dtype='object')"
      ]
     },
     "execution_count": 67,
     "metadata": {},
     "output_type": "execute_result"
    }
   ],
   "source": [
    "data.columns"
   ]
  },
  {
   "cell_type": "code",
   "execution_count": 68,
   "metadata": {},
   "outputs": [
    {
     "data": {
      "text/html": [
       "<div>\n",
       "<style scoped>\n",
       "    .dataframe tbody tr th:only-of-type {\n",
       "        vertical-align: middle;\n",
       "    }\n",
       "\n",
       "    .dataframe tbody tr th {\n",
       "        vertical-align: top;\n",
       "    }\n",
       "\n",
       "    .dataframe thead th {\n",
       "        text-align: right;\n",
       "    }\n",
       "</style>\n",
       "<table border=\"1\" class=\"dataframe\">\n",
       "  <thead>\n",
       "    <tr style=\"text-align: right;\">\n",
       "      <th></th>\n",
       "      <th>Time</th>\n",
       "      <th>Pulses</th>\n",
       "      <th>Tests</th>\n",
       "      <th>R</th>\n",
       "      <th>isSucces</th>\n",
       "      <th>dt_Ron</th>\n",
       "      <th>Amp_Ron</th>\n",
       "      <th>q</th>\n",
       "      <th>E_memristor</th>\n",
       "      <th>State</th>\n",
       "    </tr>\n",
       "  </thead>\n",
       "  <tbody>\n",
       "    <tr>\n",
       "      <th>0</th>\n",
       "      <td>1.676310e+09</td>\n",
       "      <td>0</td>\n",
       "      <td>0</td>\n",
       "      <td>799.418383</td>\n",
       "      <td>False</td>\n",
       "      <td>0.015</td>\n",
       "      <td>1.5</td>\n",
       "      <td>0.000000</td>\n",
       "      <td>0.000000</td>\n",
       "      <td>R_off</td>\n",
       "    </tr>\n",
       "    <tr>\n",
       "      <th>1</th>\n",
       "      <td>1.676310e+09</td>\n",
       "      <td>1</td>\n",
       "      <td>0</td>\n",
       "      <td>5.583429</td>\n",
       "      <td>False</td>\n",
       "      <td>0.015</td>\n",
       "      <td>1.5</td>\n",
       "      <td>0.002587</td>\n",
       "      <td>0.001748</td>\n",
       "      <td>Unknown</td>\n",
       "    </tr>\n",
       "    <tr>\n",
       "      <th>2</th>\n",
       "      <td>1.676310e+09</td>\n",
       "      <td>2</td>\n",
       "      <td>0</td>\n",
       "      <td>2.827080</td>\n",
       "      <td>True</td>\n",
       "      <td>0.015</td>\n",
       "      <td>1.5</td>\n",
       "      <td>0.003212</td>\n",
       "      <td>0.001524</td>\n",
       "      <td>R_on</td>\n",
       "    </tr>\n",
       "    <tr>\n",
       "      <th>3</th>\n",
       "      <td>1.676310e+09</td>\n",
       "      <td>0</td>\n",
       "      <td>1</td>\n",
       "      <td>577.472372</td>\n",
       "      <td>False</td>\n",
       "      <td>0.015</td>\n",
       "      <td>1.5</td>\n",
       "      <td>0.000000</td>\n",
       "      <td>0.000000</td>\n",
       "      <td>R_off</td>\n",
       "    </tr>\n",
       "    <tr>\n",
       "      <th>4</th>\n",
       "      <td>1.676310e+09</td>\n",
       "      <td>1</td>\n",
       "      <td>1</td>\n",
       "      <td>1.687071</td>\n",
       "      <td>True</td>\n",
       "      <td>0.015</td>\n",
       "      <td>1.5</td>\n",
       "      <td>0.003706</td>\n",
       "      <td>0.001198</td>\n",
       "      <td>R_on</td>\n",
       "    </tr>\n",
       "  </tbody>\n",
       "</table>\n",
       "</div>"
      ],
      "text/plain": [
       "           Time  Pulses  Tests           R  isSucces  dt_Ron  Amp_Ron  \\\n",
       "0  1.676310e+09       0      0  799.418383     False   0.015      1.5   \n",
       "1  1.676310e+09       1      0    5.583429     False   0.015      1.5   \n",
       "2  1.676310e+09       2      0    2.827080      True   0.015      1.5   \n",
       "3  1.676310e+09       0      1  577.472372     False   0.015      1.5   \n",
       "4  1.676310e+09       1      1    1.687071      True   0.015      1.5   \n",
       "\n",
       "          q  E_memristor    State  \n",
       "0  0.000000     0.000000    R_off  \n",
       "1  0.002587     0.001748  Unknown  \n",
       "2  0.003212     0.001524     R_on  \n",
       "3  0.000000     0.000000    R_off  \n",
       "4  0.003706     0.001198     R_on  "
      ]
     },
     "execution_count": 68,
     "metadata": {},
     "output_type": "execute_result"
    }
   ],
   "source": [
    "data.head()"
   ]
  },
  {
   "cell_type": "code",
   "execution_count": 69,
   "metadata": {},
   "outputs": [
    {
     "data": {
      "image/png": "[encoded data removed]",
      "text/plain": [
       "<Figure size 720x360 with 1 Axes>"
      ]
     },
     "metadata": {
      "needs_background": "light"
     },
     "output_type": "display_data"
    }
   ],
   "source": [
    "temp_data = data[data[\"isSucces\"]==True].groupby(by=\"Pulses\").count()\n",
    "plt.figure(figsize=(10,5))\n",
    "sns.barplot( x=temp_data.index, y=\"R\", data=temp_data)\n",
    "plt.xlabel(\"$No.\\ of\\ Pulses$\", fontsize=15)\n",
    "plt.ylabel(\"Number of successful tests to $R_{on}$ state \", fontsize=15)\n",
    "plt.grid(True)\n",
    "plt.show()\n"
   ]
  },
  {
   "cell_type": "code",
   "execution_count": 70,
   "metadata": {},
   "outputs": [
    {
     "data": {
      "image/png": "[encoded data removed]",
      "text/plain": [
       "<Figure size 1440x720 with 1 Axes>"
      ]
     },
     "metadata": {
      "needs_background": "light"
     },
     "output_type": "display_data"
    }
   ],
   "source": [
    "temp_data = data[data[\"isSucces\"]==True]\n",
    "plt.figure(figsize=(20,10))\n",
    "plt.bar(x=temp_data[\"Tests\"], height=temp_data[\"Pulses\"],width=0.8)\n",
    "plt.xlabel(\"No. Tests\",fontdict={'fontsize':14})\n",
    "plt.ylabel(\"Pulses to get $R_{on}$ state\",fontdict={'fontsize':14})\n",
    "plt.grid(True)\n",
    "\n",
    "\n"
   ]
  },
  {
   "cell_type": "code",
   "execution_count": 71,
   "metadata": {},
   "outputs": [
    {
     "data": {
      "text/plain": [
       "0      0.000000\n",
       "1      0.002587\n",
       "2      0.005799\n",
       "3      0.000000\n",
       "4      0.003706\n",
       "         ...   \n",
       "336    0.012879\n",
       "337    0.000000\n",
       "338    0.003197\n",
       "339    0.006449\n",
       "340    0.009700\n",
       "Name: Q_integrated, Length: 341, dtype: float64"
      ]
     },
     "execution_count": 71,
     "metadata": {},
     "output_type": "execute_result"
    }
   ],
   "source": [
    "data['Q_integrated'] = np.nan\n",
    "data['E_integrated'] = np.nan\n",
    "\n",
    "\n",
    "\n",
    "for i in data.index:\n",
    "    if data.loc[i,\"Pulses\"] == 0:\n",
    "        data.loc[i,\"Q_integrated\"] = 0\n",
    "    else:\n",
    "        data.loc[i,\"Q_integrated\"] = data.loc[i-1,\"Q_integrated\"]+data.loc[i,\"q\"]\n",
    "    if data.loc[i,\"Pulses\"] == 0:\n",
    "        data.loc[i,\"E_integrated\"] = 0\n",
    "    else:\n",
    "        data.loc[i,\"E_integrated\"] = data.loc[i-1,\"E_integrated\"]+data.loc[i,\"E_memristor\"]\n",
    "\n",
    "data['Q_integrated']\n",
    "\n",
    "\n",
    "\n"
   ]
  },
  {
   "cell_type": "code",
   "execution_count": 72,
   "metadata": {},
   "outputs": [
    {
     "data": {
      "image/png": "[encoded data removed]",
      "text/plain": [
       "<Figure size 1440x720 with 1 Axes>"
      ]
     },
     "metadata": {
      "needs_background": "light"
     },
     "output_type": "display_data"
    }
   ],
   "source": [
    "temp_data = data[data[\"isSucces\"]==True]\n",
    "plt.figure(figsize=(20,10))\n",
    "plt.bar(x=temp_data[\"Tests\"], height=temp_data[\"Q_integrated\"],width=0.8)\n",
    "plt.xlabel(\"No. Test\",fontdict={'fontsize':14})\n",
    "plt.ylabel(\"Charge to get $R_{off}$ state[mC]\",fontdict={'fontsize':14})\n",
    "plt.grid(True)\n",
    "\n"
   ]
  },
  {
   "cell_type": "code",
   "execution_count": 73,
   "metadata": {},
   "outputs": [
    {
     "data": {
      "image/png": "[encoded data removed]",
      "text/plain": [
       "<Figure size 1440x720 with 1 Axes>"
      ]
     },
     "metadata": {
      "needs_background": "light"
     },
     "output_type": "display_data"
    }
   ],
   "source": [
    "\n",
    "temp_data = data[data[\"isSucces\"]==True]\n",
    "plt.figure(figsize=(20,10))\n",
    "plt.bar(x=temp_data[\"Tests\"], height=temp_data[\"E_integrated\"],width=0.8,)\n",
    "plt.xlabel(\"No. Test\",fontdict={'fontsize':14})\n",
    "plt.ylabel(\"Energy on memristor to get $R_{on}$ state [mW]\",fontdict={'fontsize':14})\n",
    "plt.grid(True)\n"
   ]
  },
  {
   "cell_type": "code",
   "execution_count": 74,
   "metadata": {},
   "outputs": [
    {
     "data": {
      "text/plain": [
       "[<matplotlib.lines.Line2D at 0x7fcab9b672b0>]"
      ]
     },
     "execution_count": 74,
     "metadata": {},
     "output_type": "execute_result"
    },
    {
     "data": {
      "image/png": "[encoded data removed]",
      "text/plain": [
       "<Figure size 1440x720 with 1 Axes>"
      ]
     },
     "metadata": {
      "needs_background": "light"
     },
     "output_type": "display_data"
    }
   ],
   "source": [
    "from scipy.interpolate import interp1d\n",
    "\n",
    "number_of_tests = len(data[\"Tests\"].unique())\n",
    "\n",
    "temp_data = data[data[\"isSucces\"]==True].groupby(by=\"Pulses\",as_index=False).count()\n",
    "temp_data['Probability'] = np.multiply(temp_data['R'],1/number_of_tests)\n",
    "temp_data.reset_index(inplace=True)\n",
    "P = 0\n",
    "for i in temp_data.index:\n",
    "    P = temp_data.loc[i,'Probability']+P\n",
    "    temp_data.loc[i,'Probability'] = P\n",
    "x = temp_data['Pulses'].to_numpy()\n",
    "x = np.insert(x,0,0)\n",
    "y = temp_data['Probability'].to_numpy()\n",
    "y = np.insert(y,0,0)*100\n",
    "\n",
    "plt.figure(figsize=(20,10))\n",
    "plt.bar(x=x, height=y,width=0.8)\n",
    "plt.xlabel(\"No. Pulses\",fontdict={'fontsize':14})\n",
    "plt.ylabel(\"Probability to get $R_{on}$ state [%]\",fontdict={'fontsize':14})\n",
    "plt.grid(True)\n",
    "x_i = np.arange(start= np.min(x),stop= np.max(x),step=0.001)\n",
    "\n",
    "cs = interp1d(x, y)\n",
    "plt.plot(x_i, cs(x_i),'r') \n",
    "#bla bla\n"
   ]
  },
  {
   "cell_type": "code",
   "execution_count": 75,
   "metadata": {},
   "outputs": [
    {
     "data": {
      "image/png": "[encoded data removed]",
      "text/plain": [
       "<Figure size 1440x720 with 1 Axes>"
      ]
     },
     "metadata": {
      "needs_background": "light"
     },
     "output_type": "display_data"
    }
   ],
   "source": [
    "\n",
    "number_of_tests = np.max(data[\"Tests\"])\n",
    "\n",
    "temp_data = data[data[\"isSucces\"]==True].groupby(by=\"Q_integrated\",as_index=False).count()\n",
    "temp_data.sort_values(by=\"Q_integrated\",ascending=False,inplace=True)\n",
    "temp_data.reset_index(drop=True,inplace=True)\n",
    "temp_data\n",
    "\n",
    "temp_data['Probability'] = np.multiply(temp_data['R'],1/number_of_tests)\n",
    "P = 0\n",
    "\n",
    "for i in temp_data.index:\n",
    "    P = temp_data.loc[i,'Probability']+P\n",
    "    temp_data.loc[i,'Probability'] = P\n",
    "\n",
    "x = temp_data['Q_integrated'].to_numpy()\n",
    "x = np.insert(x,0,0)\n",
    "y = temp_data['Probability'].to_numpy()\n",
    "y = np.insert(y,0,0)*100\n",
    "\n",
    "plt.figure(figsize=(20,10))\n",
    "plt.plot(x, y)\n",
    "plt.xlabel(\"Charge [mC]\",fontdict={'fontsize':14})\n",
    "plt.ylabel(\"Probability to get $R_{off}$ state [%]\",fontdict={'fontsize':14})\n",
    "plt.grid(True)\n",
    "x_i = np.arange(start= np.min(x),stop= np.max(x),step=0.001)\n",
    "\n",
    "cs = interp1d(x, y,kind='previous')\n",
    "\n",
    "\n",
    "t = data[\"R\"] == \"nan\"\n",
    "t = np.where(t==True)\n",
    "data.iloc[t[0]]\n",
    "data =data.drop(labels = t[0],axis=0).reset_index(drop=True)\n",
    "data[\"R\"] = data[\"R\"].astype(np.float64)\n",
    "\n",
    "\n",
    "\n",
    "#plt.plot(x_i, cs(x_i),'r')\n",
    "\n",
    "\n"
   ]
  },
  {
   "cell_type": "code",
   "execution_count": 76,
   "metadata": {},
   "outputs": [
    {
     "data": {
      "text/html": [
       "<div>\n",
       "<style scoped>\n",
       "    .dataframe tbody tr th:only-of-type {\n",
       "        vertical-align: middle;\n",
       "    }\n",
       "\n",
       "    .dataframe tbody tr th {\n",
       "        vertical-align: top;\n",
       "    }\n",
       "\n",
       "    .dataframe thead th {\n",
       "        text-align: right;\n",
       "    }\n",
       "</style>\n",
       "<table border=\"1\" class=\"dataframe\">\n",
       "  <thead>\n",
       "    <tr style=\"text-align: right;\">\n",
       "      <th></th>\n",
       "      <th>Time</th>\n",
       "      <th>Pulses</th>\n",
       "      <th>Tests</th>\n",
       "      <th>R</th>\n",
       "      <th>isSucces</th>\n",
       "      <th>dt_Ron</th>\n",
       "      <th>Amp_Ron</th>\n",
       "      <th>q</th>\n",
       "      <th>E_memristor</th>\n",
       "      <th>State</th>\n",
       "      <th>Q_integrated</th>\n",
       "      <th>E_integrated</th>\n",
       "    </tr>\n",
       "  </thead>\n",
       "  <tbody>\n",
       "    <tr>\n",
       "      <th>0</th>\n",
       "      <td>1.676310e+09</td>\n",
       "      <td>0</td>\n",
       "      <td>0</td>\n",
       "      <td>799.418383</td>\n",
       "      <td>False</td>\n",
       "      <td>0.015</td>\n",
       "      <td>1.5</td>\n",
       "      <td>0.000000</td>\n",
       "      <td>0.000000</td>\n",
       "      <td>R_off</td>\n",
       "      <td>0.000000</td>\n",
       "      <td>0.000000</td>\n",
       "    </tr>\n",
       "    <tr>\n",
       "      <th>1</th>\n",
       "      <td>1.676310e+09</td>\n",
       "      <td>1</td>\n",
       "      <td>0</td>\n",
       "      <td>5.583429</td>\n",
       "      <td>False</td>\n",
       "      <td>0.015</td>\n",
       "      <td>1.5</td>\n",
       "      <td>0.002587</td>\n",
       "      <td>0.001748</td>\n",
       "      <td>Unknown</td>\n",
       "      <td>0.002587</td>\n",
       "      <td>0.001748</td>\n",
       "    </tr>\n",
       "    <tr>\n",
       "      <th>2</th>\n",
       "      <td>1.676310e+09</td>\n",
       "      <td>2</td>\n",
       "      <td>0</td>\n",
       "      <td>2.827080</td>\n",
       "      <td>True</td>\n",
       "      <td>0.015</td>\n",
       "      <td>1.5</td>\n",
       "      <td>0.003212</td>\n",
       "      <td>0.001524</td>\n",
       "      <td>R_on</td>\n",
       "      <td>0.005799</td>\n",
       "      <td>0.003272</td>\n",
       "    </tr>\n",
       "    <tr>\n",
       "      <th>3</th>\n",
       "      <td>1.676310e+09</td>\n",
       "      <td>0</td>\n",
       "      <td>1</td>\n",
       "      <td>577.472372</td>\n",
       "      <td>False</td>\n",
       "      <td>0.015</td>\n",
       "      <td>1.5</td>\n",
       "      <td>0.000000</td>\n",
       "      <td>0.000000</td>\n",
       "      <td>R_off</td>\n",
       "      <td>0.000000</td>\n",
       "      <td>0.000000</td>\n",
       "    </tr>\n",
       "    <tr>\n",
       "      <th>4</th>\n",
       "      <td>1.676310e+09</td>\n",
       "      <td>1</td>\n",
       "      <td>1</td>\n",
       "      <td>1.687071</td>\n",
       "      <td>True</td>\n",
       "      <td>0.015</td>\n",
       "      <td>1.5</td>\n",
       "      <td>0.003706</td>\n",
       "      <td>0.001198</td>\n",
       "      <td>R_on</td>\n",
       "      <td>0.003706</td>\n",
       "      <td>0.001198</td>\n",
       "    </tr>\n",
       "    <tr>\n",
       "      <th>...</th>\n",
       "      <td>...</td>\n",
       "      <td>...</td>\n",
       "      <td>...</td>\n",
       "      <td>...</td>\n",
       "      <td>...</td>\n",
       "      <td>...</td>\n",
       "      <td>...</td>\n",
       "      <td>...</td>\n",
       "      <td>...</td>\n",
       "      <td>...</td>\n",
       "      <td>...</td>\n",
       "      <td>...</td>\n",
       "    </tr>\n",
       "    <tr>\n",
       "      <th>336</th>\n",
       "      <td>1.676311e+09</td>\n",
       "      <td>4</td>\n",
       "      <td>99</td>\n",
       "      <td>2.970202</td>\n",
       "      <td>True</td>\n",
       "      <td>0.015</td>\n",
       "      <td>1.5</td>\n",
       "      <td>0.003250</td>\n",
       "      <td>0.001531</td>\n",
       "      <td>R_on</td>\n",
       "      <td>0.012879</td>\n",
       "      <td>0.006180</td>\n",
       "    </tr>\n",
       "    <tr>\n",
       "      <th>337</th>\n",
       "      <td>1.676311e+09</td>\n",
       "      <td>0</td>\n",
       "      <td>100</td>\n",
       "      <td>507.246247</td>\n",
       "      <td>False</td>\n",
       "      <td>0.015</td>\n",
       "      <td>1.5</td>\n",
       "      <td>0.000000</td>\n",
       "      <td>0.000000</td>\n",
       "      <td>R_off</td>\n",
       "      <td>0.000000</td>\n",
       "      <td>0.000000</td>\n",
       "    </tr>\n",
       "    <tr>\n",
       "      <th>338</th>\n",
       "      <td>1.676311e+09</td>\n",
       "      <td>1</td>\n",
       "      <td>100</td>\n",
       "      <td>3.183956</td>\n",
       "      <td>False</td>\n",
       "      <td>0.015</td>\n",
       "      <td>1.5</td>\n",
       "      <td>0.003197</td>\n",
       "      <td>0.001569</td>\n",
       "      <td>Unknown</td>\n",
       "      <td>0.003197</td>\n",
       "      <td>0.001569</td>\n",
       "    </tr>\n",
       "    <tr>\n",
       "      <th>339</th>\n",
       "      <td>1.676311e+09</td>\n",
       "      <td>2</td>\n",
       "      <td>100</td>\n",
       "      <td>3.012139</td>\n",
       "      <td>False</td>\n",
       "      <td>0.015</td>\n",
       "      <td>1.5</td>\n",
       "      <td>0.003252</td>\n",
       "      <td>0.001543</td>\n",
       "      <td>Unknown</td>\n",
       "      <td>0.006449</td>\n",
       "      <td>0.003112</td>\n",
       "    </tr>\n",
       "    <tr>\n",
       "      <th>340</th>\n",
       "      <td>1.676311e+09</td>\n",
       "      <td>3</td>\n",
       "      <td>100</td>\n",
       "      <td>2.965158</td>\n",
       "      <td>True</td>\n",
       "      <td>0.015</td>\n",
       "      <td>1.5</td>\n",
       "      <td>0.003251</td>\n",
       "      <td>0.001530</td>\n",
       "      <td>R_on</td>\n",
       "      <td>0.009700</td>\n",
       "      <td>0.004642</td>\n",
       "    </tr>\n",
       "  </tbody>\n",
       "</table>\n",
       "<p>341 rows × 12 columns</p>\n",
       "</div>"
      ],
      "text/plain": [
       "             Time  Pulses  Tests           R  isSucces  dt_Ron  Amp_Ron  \\\n",
       "0    1.676310e+09       0      0  799.418383     False   0.015      1.5   \n",
       "1    1.676310e+09       1      0    5.583429     False   0.015      1.5   \n",
       "2    1.676310e+09       2      0    2.827080      True   0.015      1.5   \n",
       "3    1.676310e+09       0      1  577.472372     False   0.015      1.5   \n",
       "4    1.676310e+09       1      1    1.687071      True   0.015      1.5   \n",
       "..            ...     ...    ...         ...       ...     ...      ...   \n",
       "336  1.676311e+09       4     99    2.970202      True   0.015      1.5   \n",
       "337  1.676311e+09       0    100  507.246247     False   0.015      1.5   \n",
       "338  1.676311e+09       1    100    3.183956     False   0.015      1.5   \n",
       "339  1.676311e+09       2    100    3.012139     False   0.015      1.5   \n",
       "340  1.676311e+09       3    100    2.965158      True   0.015      1.5   \n",
       "\n",
       "            q  E_memristor    State  Q_integrated  E_integrated  \n",
       "0    0.000000     0.000000    R_off      0.000000      0.000000  \n",
       "1    0.002587     0.001748  Unknown      0.002587      0.001748  \n",
       "2    0.003212     0.001524     R_on      0.005799      0.003272  \n",
       "3    0.000000     0.000000    R_off      0.000000      0.000000  \n",
       "4    0.003706     0.001198     R_on      0.003706      0.001198  \n",
       "..        ...          ...      ...           ...           ...  \n",
       "336  0.003250     0.001531     R_on      0.012879      0.006180  \n",
       "337  0.000000     0.000000    R_off      0.000000      0.000000  \n",
       "338  0.003197     0.001569  Unknown      0.003197      0.001569  \n",
       "339  0.003252     0.001543  Unknown      0.006449      0.003112  \n",
       "340  0.003251     0.001530     R_on      0.009700      0.004642  \n",
       "\n",
       "[341 rows x 12 columns]"
      ]
     },
     "execution_count": 76,
     "metadata": {},
     "output_type": "execute_result"
    }
   ],
   "source": [
    "data"
   ]
  },
  {
   "cell_type": "code",
   "execution_count": 77,
   "metadata": {},
   "outputs": [],
   "source": [
    "temp_data = data[data['State'] == \"Unknown\"]\n"
   ]
  },
  {
   "cell_type": "code",
   "execution_count": 79,
   "metadata": {},
   "outputs": [
    {
     "data": {
      "image/png": "[encoded data removed]",
      "text/plain": [
       "<Figure size 720x360 with 1 Axes>"
      ]
     },
     "metadata": {
      "needs_background": "light"
     },
     "output_type": "display_data"
    }
   ],
   "source": [
    "plt.figure(figsize=(10,5))\n",
    "sns.boxplot(data=temp_data, x=\"Pulses\",y=\"R\")\n",
    "plt.xlabel(\"No. of Pulses\", fontsize=15)\n",
    "plt.ylabel(\"R $[k\\Omega]$ \", fontsize=15)\n",
    "plt.grid(True)\n",
    "plt.ylim(0,10)\n",
    "\n",
    "plt.title('Wartości rezystancji przy stanie \"Unknown\"', fontsize = 15)\n",
    "plt.show()\n",
    "\n"
   ]
  },
  {
   "cell_type": "code",
   "execution_count": 60,
   "metadata": {},
   "outputs": [],
   "source": [
    "temp_data = data[data['Pulses'] != 0]"
   ]
  },
  {
   "cell_type": "code",
   "execution_count": 61,
   "metadata": {},
   "outputs": [
    {
     "data": {
      "image/png": "[encoded data removed]",
      "text/plain": [
       "<Figure size 720x360 with 1 Axes>"
      ]
     },
     "metadata": {
      "needs_background": "light"
     },
     "output_type": "display_data"
    }
   ],
   "source": [
    "\n",
    "\n",
    "plt.figure(figsize=(10,5))\n",
    "sns.boxplot(data=temp_data, x=\"Pulses\",y=\"R\")\n",
    "plt.xlabel(\"No. of Pulses\", fontsize=15)\n",
    "plt.ylabel(\"Number of successful tests to $R_{on}$ state \", fontsize=15)\n",
    "plt.grid(True)\n",
    "#plt.ylim((0,800))\n",
    "plt.ylabel(\"R $[k\\Omega]$ \", fontsize=15)\n",
    "plt.title(\"Wartości rezystancji dla wszystkich prób\", fontsize=15)\n",
    "plt.show()\n",
    "#plt.savefig('histogram.pgf')"
   ]
  },
  {
   "cell_type": "code",
   "execution_count": 62,
   "metadata": {},
   "outputs": [],
   "source": [
    "k = np.logical_and( temp_data[\"Pulses\"]>=3, temp_data[\"R\"]>=100 )\n",
    "k = np.where(k==True)\n",
    "ind = temp_data.iloc[k[0]].index\n",
    "temp_data =temp_data.drop(index=ind,axis=0).reset_index(drop=True)\n",
    "#temp_data.max()\n"
   ]
  },
  {
   "cell_type": "code",
   "execution_count": 63,
   "metadata": {},
   "outputs": [
    {
     "data": {
      "image/png": "[encoded data removed]",
      "text/plain": [
       "<Figure size 720x360 with 1 Axes>"
      ]
     },
     "metadata": {
      "needs_background": "light"
     },
     "output_type": "display_data"
    }
   ],
   "source": [
    "plt.figure(figsize=(10,5))\n",
    "max = temp_data.groupby('Pulses').max()[\"R\"]\n",
    "min = temp_data.groupby('Pulses').min()[\"R\"]\n",
    "plt.fill_between(max.index, max, min, alpha=0.4, color='blue')\n",
    "plt.xlabel(\"No. of Pulses\", fontsize=15)\n",
    "plt.ylabel(\"$Resistance\\ [k\\Omega]$ \", fontsize=15)\n",
    "plt.grid(True)\n",
    "#plt.ylim((0,25))"
   ]
  },
  {
   "cell_type": "code",
   "execution_count": 64,
   "metadata": {},
   "outputs": [
    {
     "data": {
      "text/plain": [
       "Time            1675773873.41196\n",
       "Pulses                         0\n",
       "Tests                          0\n",
       "R                       77.59165\n",
       "isSucces                   False\n",
       "dt_Ron                     0.005\n",
       "Amp_Ron                      1.0\n",
       "q                            0.0\n",
       "E_memristor                  0.0\n",
       "State                      R_off\n",
       "Q_integrated                 0.0\n",
       "E_integrated                 0.0\n",
       "dtype: object"
      ]
     },
     "execution_count": 64,
     "metadata": {},
     "output_type": "execute_result"
    }
   ],
   "source": [
    "data[data['State']==\"R_off\"].min()"
   ]
  },
  {
   "cell_type": "code",
   "execution_count": null,
   "metadata": {},
   "outputs": [],
   "source": []
  },
  {
   "cell_type": "code",
   "execution_count": null,
   "metadata": {},
   "outputs": [],
   "source": []
  }
 ],
 "metadata": {
  "kernelspec": {
   "display_name": "base",
   "language": "python",
   "name": "python3"
  },
  "language_info": {
   "codemirror_mode": {
    "name": "ipython",
    "version": 3
   },
   "file_extension": ".py",
   "mimetype": "text/x-python",
   "name": "python",
   "nbconvert_exporter": "python",
   "pygments_lexer": "ipython3",
   "version": "3.9.12"
  },
  "orig_nbformat": 4,
  "vscode": {
   "interpreter": {
    "hash": "88279d2366fe020547cde40dd65aa0e3aa662a6ec1f3ca12d88834876c85e1a6"
   }
  }
 },
 "nbformat": 4,
 "nbformat_minor": 2
}
